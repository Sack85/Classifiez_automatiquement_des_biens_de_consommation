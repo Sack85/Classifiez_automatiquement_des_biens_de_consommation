{
 "cells": [
  {
   "cell_type": "code",
   "execution_count": 1,
   "id": "65c1ad3e-709a-4482-8342-553037188b13",
   "metadata": {},
   "outputs": [],
   "source": [
    "import cv2\n",
    "import glob"
   ]
  },
  {
   "cell_type": "code",
   "execution_count": 2,
   "id": "3ef8f4e6-184c-4785-927c-61305b29eda1",
   "metadata": {},
   "outputs": [
    {
     "name": "stderr",
     "output_type": "stream",
     "text": [
      "2021-10-01 08:53:09.558472: W tensorflow/stream_executor/platform/default/dso_loader.cc:64] Could not load dynamic library 'libcudart.so.11.0'; dlerror: libcudart.so.11.0: cannot open shared object file: No such file or directory\n",
      "2021-10-01 08:53:09.558511: I tensorflow/stream_executor/cuda/cudart_stub.cc:29] Ignore above cudart dlerror if you do not have a GPU set up on your machine.\n"
     ]
    },
    {
     "name": "stdout",
     "output_type": "stream",
     "text": [
      "Num GPUs Available:  0\n"
     ]
    },
    {
     "name": "stderr",
     "output_type": "stream",
     "text": [
      "2021-10-01 08:53:11.767837: W tensorflow/stream_executor/platform/default/dso_loader.cc:64] Could not load dynamic library 'libcuda.so.1'; dlerror: libcuda.so.1: cannot open shared object file: No such file or directory\n",
      "2021-10-01 08:53:11.767866: W tensorflow/stream_executor/cuda/cuda_driver.cc:269] failed call to cuInit: UNKNOWN ERROR (303)\n",
      "2021-10-01 08:53:11.767891: I tensorflow/stream_executor/cuda/cuda_diagnostics.cc:156] kernel driver does not appear to be running on this host (chispitas-15-bs0xx): /proc/driver/nvidia/version does not exist\n"
     ]
    }
   ],
   "source": [
    "import tensorflow as tf\n",
    "print(\"Num GPUs Available: \", len(tf.config.list_physical_devices('GPU')))"
   ]
  },
  {
   "cell_type": "code",
   "execution_count": 3,
   "id": "c31de481-900c-49e9-b82c-a203e0ca12ab",
   "metadata": {},
   "outputs": [
    {
     "name": "stdout",
     "output_type": "stream",
     "text": [
      "[name: \"/device:CPU:0\"\n",
      "device_type: \"CPU\"\n",
      "memory_limit: 268435456\n",
      "locality {\n",
      "}\n",
      "incarnation: 12566678134757070153\n",
      "]\n"
     ]
    },
    {
     "name": "stderr",
     "output_type": "stream",
     "text": [
      "2021-10-01 08:53:11.774266: I tensorflow/core/platform/cpu_feature_guard.cc:142] This TensorFlow binary is optimized with oneAPI Deep Neural Network Library (oneDNN) to use the following CPU instructions in performance-critical operations:  AVX2 FMA\n",
      "To enable them in other operations, rebuild TensorFlow with the appropriate compiler flags.\n"
     ]
    }
   ],
   "source": [
    "from tensorflow.python.client import device_lib\n",
    "print(device_lib.list_local_devices())"
   ]
  },
  {
   "cell_type": "code",
   "execution_count": 4,
   "id": "862bdd68-9dfc-4282-b121-2fa6519cda8f",
   "metadata": {
    "tags": []
   },
   "outputs": [],
   "source": [
    "#https://www.tensorflow.org/api_docs/python/tf/keras/preprocessing/image/ImageDataGenerator\n",
    "#https://www.tensorflow.org/\n",
    "#https://www.tensorflow.org/api_docs/python/tf/keras/callbacks/EarlyStopping\n",
    "\n",
    "#https://github.com/ipeaGIT/geobr\n",
    "#https://www.scikit-yb.org/en/latest/api/cluster/silhouette.html\n",
    "#https://zhiyzuo.github.io/Plot-Lorenz/\n",
    "#https://pandas.pydata.org/pandas-docs/stable/user_guide/\n",
    "#https://pandas.pydata.org/pandas-docs/stable/user_guide/sparse.html#sparsearray\n",
    "import pandas as pd\n",
    "from pandas_profiling import ProfileReport #https://pandas-profiling.github.io/pandas-profiling/docs/master/index.html\n",
    "import csv\n",
    "#import qgrid\n",
    "import numpy as np\n",
    "%matplotlib inline\n",
    "import matplotlib.pyplot as plt\n",
    "import seaborn as sns\n",
    "pd.set_option('display.max_columns', None) #Montrer toutes les colonnes\n",
    "#https://github.com/pandas-profiling/pandas-profiling\n",
    "\n",
    "#import geopandas #pip install geopandas https://geopandas.org/index.html\n",
    "import pingouin as pg\n",
    "import scipy\n",
    "#from pca import pca #pip install pca https://github.com/erdogant/pca\n",
    "from sklearn.decomposition import PCA\n",
    "from sklearn.manifold import TSNE\n",
    "import joblib\n",
    "\n",
    "import ast #Tranfromer un dictioner\n",
    "    \n",
    "#import dask.dataframe as dd\n",
    "#%pip  install \"dask[complete]\"\n",
    "#!pip  install \"dask[complete]\"\n",
    "\n",
    "dirDATA = '/media/chispitas/DATOS/Documento/Estudios/DataScientist/Projecto/P6-Classifiez automatiquement des biens de consommation/Code/Data/Flipkart/'\n",
    "dirIMAGES = '/media/chispitas/DATOS/Documento/Estudios/DataScientist/Projecto/P6-Classifiez automatiquement des biens de consommation/Code/Data/Flipkart/Images/'\n",
    "dirCLEAN = '/media/chispitas/DATOS/Documento/Estudios/DataScientist/Projecto/P6-Classifiez automatiquement des biens de consommation/Code/Cleaning/'\n",
    "dirCV = '/media/chispitas/DATOS/Documento/Estudios/DataScientist/Projecto/P6-Classifiez automatiquement des biens de consommation/Code/CV/'\n",
    "dirIMAGES = '/media/chispitas/DATOS/Documento/Estudios/DataScientist/Projecto/P6-Classifiez automatiquement des biens de consommation/Code/Data/Flipkart/Images0/'\n",
    "\n",
    "\n",
    "dir_flipkart= dirDATA + 'flipkart_com-ecommerce_sample_1050.csv'"
   ]
  },
  {
   "cell_type": "code",
   "execution_count": 5,
   "id": "ba225a77-571a-402a-b1aa-485ad12b42bb",
   "metadata": {},
   "outputs": [
    {
     "data": {
      "text/html": [
       "<div>\n",
       "<style scoped>\n",
       "    .dataframe tbody tr th:only-of-type {\n",
       "        vertical-align: middle;\n",
       "    }\n",
       "\n",
       "    .dataframe tbody tr th {\n",
       "        vertical-align: top;\n",
       "    }\n",
       "\n",
       "    .dataframe thead th {\n",
       "        text-align: right;\n",
       "    }\n",
       "</style>\n",
       "<table border=\"1\" class=\"dataframe\">\n",
       "  <thead>\n",
       "    <tr style=\"text-align: right;\">\n",
       "      <th></th>\n",
       "      <th>image</th>\n",
       "      <th>product_category_tree_0</th>\n",
       "    </tr>\n",
       "    <tr>\n",
       "      <th>uniq_id</th>\n",
       "      <th></th>\n",
       "      <th></th>\n",
       "    </tr>\n",
       "  </thead>\n",
       "  <tbody>\n",
       "    <tr>\n",
       "      <th>55b85ea15a1536d46b7190ad6fff8ce7</th>\n",
       "      <td>55b85ea15a1536d46b7190ad6fff8ce7.jpg</td>\n",
       "      <td>home furnishing</td>\n",
       "    </tr>\n",
       "    <tr>\n",
       "      <th>7b72c92c2f6c40268628ec5f14c6d590</th>\n",
       "      <td>7b72c92c2f6c40268628ec5f14c6d590.jpg</td>\n",
       "      <td>baby care</td>\n",
       "    </tr>\n",
       "    <tr>\n",
       "      <th>d4684dcdc759dd9cdf41504698d737d8</th>\n",
       "      <td>d4684dcdc759dd9cdf41504698d737d8.jpg</td>\n",
       "      <td>home furnishing</td>\n",
       "    </tr>\n",
       "    <tr>\n",
       "      <th>6325b6870c54cd47be6ebfbffa620ec7</th>\n",
       "      <td>6325b6870c54cd47be6ebfbffa620ec7.jpg</td>\n",
       "      <td>home furnishing</td>\n",
       "    </tr>\n",
       "    <tr>\n",
       "      <th>893aa5ed55f7cff2eccea7758d7a86bd</th>\n",
       "      <td>893aa5ed55f7cff2eccea7758d7a86bd.jpg</td>\n",
       "      <td>watches</td>\n",
       "    </tr>\n",
       "    <tr>\n",
       "      <th>...</th>\n",
       "      <td>...</td>\n",
       "      <td>...</td>\n",
       "    </tr>\n",
       "    <tr>\n",
       "      <th>be0f39341d771aac57084970f1ed6425</th>\n",
       "      <td>be0f39341d771aac57084970f1ed6425.jpg</td>\n",
       "      <td>baby care</td>\n",
       "    </tr>\n",
       "    <tr>\n",
       "      <th>958f54f4c46b53c8a0a9b8167d9140bc</th>\n",
       "      <td>958f54f4c46b53c8a0a9b8167d9140bc.jpg</td>\n",
       "      <td>baby care</td>\n",
       "    </tr>\n",
       "    <tr>\n",
       "      <th>fd6cbcc22efb6b761bd564c28928483c</th>\n",
       "      <td>fd6cbcc22efb6b761bd564c28928483c.jpg</td>\n",
       "      <td>baby care</td>\n",
       "    </tr>\n",
       "    <tr>\n",
       "      <th>5912e037d12774bb73a2048f35a00009</th>\n",
       "      <td>5912e037d12774bb73a2048f35a00009.jpg</td>\n",
       "      <td>baby care</td>\n",
       "    </tr>\n",
       "    <tr>\n",
       "      <th>c3edc504d1b4f0ba6224fa53a43a7ad6</th>\n",
       "      <td>c3edc504d1b4f0ba6224fa53a43a7ad6.jpg</td>\n",
       "      <td>baby care</td>\n",
       "    </tr>\n",
       "  </tbody>\n",
       "</table>\n",
       "<p>864 rows × 2 columns</p>\n",
       "</div>"
      ],
      "text/plain": [
       "                                                                 image  \\\n",
       "uniq_id                                                                  \n",
       "55b85ea15a1536d46b7190ad6fff8ce7  55b85ea15a1536d46b7190ad6fff8ce7.jpg   \n",
       "7b72c92c2f6c40268628ec5f14c6d590  7b72c92c2f6c40268628ec5f14c6d590.jpg   \n",
       "d4684dcdc759dd9cdf41504698d737d8  d4684dcdc759dd9cdf41504698d737d8.jpg   \n",
       "6325b6870c54cd47be6ebfbffa620ec7  6325b6870c54cd47be6ebfbffa620ec7.jpg   \n",
       "893aa5ed55f7cff2eccea7758d7a86bd  893aa5ed55f7cff2eccea7758d7a86bd.jpg   \n",
       "...                                                                ...   \n",
       "be0f39341d771aac57084970f1ed6425  be0f39341d771aac57084970f1ed6425.jpg   \n",
       "958f54f4c46b53c8a0a9b8167d9140bc  958f54f4c46b53c8a0a9b8167d9140bc.jpg   \n",
       "fd6cbcc22efb6b761bd564c28928483c  fd6cbcc22efb6b761bd564c28928483c.jpg   \n",
       "5912e037d12774bb73a2048f35a00009  5912e037d12774bb73a2048f35a00009.jpg   \n",
       "c3edc504d1b4f0ba6224fa53a43a7ad6  c3edc504d1b4f0ba6224fa53a43a7ad6.jpg   \n",
       "\n",
       "                                 product_category_tree_0  \n",
       "uniq_id                                                   \n",
       "55b85ea15a1536d46b7190ad6fff8ce7         home furnishing  \n",
       "7b72c92c2f6c40268628ec5f14c6d590               baby care  \n",
       "d4684dcdc759dd9cdf41504698d737d8         home furnishing  \n",
       "6325b6870c54cd47be6ebfbffa620ec7         home furnishing  \n",
       "893aa5ed55f7cff2eccea7758d7a86bd                 watches  \n",
       "...                                                  ...  \n",
       "be0f39341d771aac57084970f1ed6425               baby care  \n",
       "958f54f4c46b53c8a0a9b8167d9140bc               baby care  \n",
       "fd6cbcc22efb6b761bd564c28928483c               baby care  \n",
       "5912e037d12774bb73a2048f35a00009               baby care  \n",
       "c3edc504d1b4f0ba6224fa53a43a7ad6               baby care  \n",
       "\n",
       "[864 rows x 2 columns]"
      ]
     },
     "execution_count": 5,
     "metadata": {},
     "output_type": "execute_result"
    }
   ],
   "source": [
    "dfImagesCAT = pd.read_csv(dirCV+'dfDATA_Clean.csv', encoding='utf-8', index_col=0) #, delimiter='\\t', lineterminator=\"\\n\", \n",
    "dfImagesCAT"
   ]
  },
  {
   "cell_type": "markdown",
   "id": "0b9eb507-8a3e-48dd-a86d-65c239397a70",
   "metadata": {
    "tags": []
   },
   "source": [
    "# STYLE Graph"
   ]
  },
  {
   "cell_type": "code",
   "execution_count": 6,
   "id": "5ec0a16e-dc14-4421-aac9-35b405e5d9b4",
   "metadata": {
    "tags": []
   },
   "outputs": [],
   "source": [
    "#using the style \n",
    "plt.style.use('seaborn-ticks')\n",
    "plt.style.use('seaborn-notebook') \n",
    "plt.style.use('seaborn-poster') \n",
    "plt.rcParams[\"figure.figsize\"] = [10,8]\n",
    "\n",
    "#Width\n",
    "plt.rcParams['axes.linewidth'] = 1.5\n",
    "plt.rcParams['figure.titleweight'] = 'bold'\n",
    "plt.rcParams['font.weight'] = 'bold'\n",
    "plt.rcParams['axes.titleweight'] = 'bold'\n",
    "plt.rcParams['axes.labelweight'] = 'bold'\n",
    "\n",
    "#Legend\n",
    "#plt.rcParams['legend.loc'] = 'center left'\n",
    "plt.rcParams['legend.fontsize'] = 'medium'\n",
    "plt.rcParams['legend.frameon'] = True\n",
    "plt.rcParams['legend.edgecolor'] = 'black'\n",
    "plt.rcParams['legend.facecolor'] = 'w'\n",
    "plt.rcParams['legend.markerscale'] = 2\n",
    "\n",
    "#Scatter marker\n",
    "plt.rcParams['scatter.marker'] = 'o'\n",
    "plt.rcParams['text.color'] = 'black'\n",
    "plt.rcParams['axes.labelcolor'] = 'black'\n",
    "plt.rcParams['xtick.color'] = 'black'\n",
    "plt.rcParams['ytick.color'] = 'black'"
   ]
  },
  {
   "cell_type": "markdown",
   "id": "445c29df-2a99-409b-a0f7-9fe6b219820f",
   "metadata": {
    "tags": []
   },
   "source": [
    "# VGG16"
   ]
  },
  {
   "cell_type": "code",
   "execution_count": 7,
   "id": "ea7e43ae-46a8-411b-86ea-0903c71db6b3",
   "metadata": {},
   "outputs": [],
   "source": [
    "from keras.applications import vgg16\n",
    "#from keras import applications\n",
    "from keras.preprocessing.image import ImageDataGenerator\n",
    "from keras import optimizers\n",
    "from keras.models import Sequential, Model \n",
    "from keras.layers import Dropout, Flatten, Dense, GlobalAveragePooling2D\n",
    "from keras import backend as k \n",
    "from keras.callbacks import ModelCheckpoint, LearningRateScheduler, TensorBoard, EarlyStopping"
   ]
  },
  {
   "cell_type": "markdown",
   "id": "d73e2afa-73d7-4317-a5b0-91706bd94c5c",
   "metadata": {},
   "source": [
    "## Training and Test Set split"
   ]
  },
  {
   "cell_type": "code",
   "execution_count": 8,
   "id": "23e18c91-c0b1-4096-8591-94faeb0ebce0",
   "metadata": {
    "tags": []
   },
   "outputs": [
    {
     "data": {
      "text/html": [
       "<div>\n",
       "<style scoped>\n",
       "    .dataframe tbody tr th:only-of-type {\n",
       "        vertical-align: middle;\n",
       "    }\n",
       "\n",
       "    .dataframe tbody tr th {\n",
       "        vertical-align: top;\n",
       "    }\n",
       "\n",
       "    .dataframe thead th {\n",
       "        text-align: right;\n",
       "    }\n",
       "</style>\n",
       "<table border=\"1\" class=\"dataframe\">\n",
       "  <thead>\n",
       "    <tr style=\"text-align: right;\">\n",
       "      <th></th>\n",
       "      <th>image</th>\n",
       "      <th>product_category_tree_0</th>\n",
       "    </tr>\n",
       "    <tr>\n",
       "      <th>uniq_id</th>\n",
       "      <th></th>\n",
       "      <th></th>\n",
       "    </tr>\n",
       "  </thead>\n",
       "  <tbody>\n",
       "    <tr>\n",
       "      <th>aab46b84f70cc6774afaafe1d6035de3</th>\n",
       "      <td>aab46b84f70cc6774afaafe1d6035de3.jpg</td>\n",
       "      <td>kitchen &amp; dining</td>\n",
       "    </tr>\n",
       "    <tr>\n",
       "      <th>a1fa0e24b2249ffa81f688c4840f1eb8</th>\n",
       "      <td>a1fa0e24b2249ffa81f688c4840f1eb8.jpg</td>\n",
       "      <td>beauty and personal care</td>\n",
       "    </tr>\n",
       "    <tr>\n",
       "      <th>eaf55e90d0e4295cb84cb0276e78c35c</th>\n",
       "      <td>eaf55e90d0e4295cb84cb0276e78c35c.jpg</td>\n",
       "      <td>beauty and personal care</td>\n",
       "    </tr>\n",
       "    <tr>\n",
       "      <th>4946e2411d24801b9e8f7dbe97ab1b93</th>\n",
       "      <td>4946e2411d24801b9e8f7dbe97ab1b93.jpg</td>\n",
       "      <td>home decor &amp; festive needs</td>\n",
       "    </tr>\n",
       "    <tr>\n",
       "      <th>5307e0db12b1018746ac3801d189c379</th>\n",
       "      <td>5307e0db12b1018746ac3801d189c379.jpg</td>\n",
       "      <td>home decor &amp; festive needs</td>\n",
       "    </tr>\n",
       "    <tr>\n",
       "      <th>...</th>\n",
       "      <td>...</td>\n",
       "      <td>...</td>\n",
       "    </tr>\n",
       "    <tr>\n",
       "      <th>01089dc3618a0ab7304d784ef400b83d</th>\n",
       "      <td>01089dc3618a0ab7304d784ef400b83d.jpg</td>\n",
       "      <td>computers</td>\n",
       "    </tr>\n",
       "    <tr>\n",
       "      <th>5a5bb03499009f35759258263fc834a3</th>\n",
       "      <td>5a5bb03499009f35759258263fc834a3.jpg</td>\n",
       "      <td>computers</td>\n",
       "    </tr>\n",
       "    <tr>\n",
       "      <th>43da6e88dcb61e027ea9112cfab158ee</th>\n",
       "      <td>43da6e88dcb61e027ea9112cfab158ee.jpg</td>\n",
       "      <td>home furnishing</td>\n",
       "    </tr>\n",
       "    <tr>\n",
       "      <th>707b160df4c4dece6cde52b222ce624b</th>\n",
       "      <td>707b160df4c4dece6cde52b222ce624b.jpg</td>\n",
       "      <td>home furnishing</td>\n",
       "    </tr>\n",
       "    <tr>\n",
       "      <th>c943647eee4de99fc1b4e233b9a7f47d</th>\n",
       "      <td>c943647eee4de99fc1b4e233b9a7f47d.jpg</td>\n",
       "      <td>home furnishing</td>\n",
       "    </tr>\n",
       "  </tbody>\n",
       "</table>\n",
       "<p>552 rows × 2 columns</p>\n",
       "</div>"
      ],
      "text/plain": [
       "                                                                 image  \\\n",
       "uniq_id                                                                  \n",
       "aab46b84f70cc6774afaafe1d6035de3  aab46b84f70cc6774afaafe1d6035de3.jpg   \n",
       "a1fa0e24b2249ffa81f688c4840f1eb8  a1fa0e24b2249ffa81f688c4840f1eb8.jpg   \n",
       "eaf55e90d0e4295cb84cb0276e78c35c  eaf55e90d0e4295cb84cb0276e78c35c.jpg   \n",
       "4946e2411d24801b9e8f7dbe97ab1b93  4946e2411d24801b9e8f7dbe97ab1b93.jpg   \n",
       "5307e0db12b1018746ac3801d189c379  5307e0db12b1018746ac3801d189c379.jpg   \n",
       "...                                                                ...   \n",
       "01089dc3618a0ab7304d784ef400b83d  01089dc3618a0ab7304d784ef400b83d.jpg   \n",
       "5a5bb03499009f35759258263fc834a3  5a5bb03499009f35759258263fc834a3.jpg   \n",
       "43da6e88dcb61e027ea9112cfab158ee  43da6e88dcb61e027ea9112cfab158ee.jpg   \n",
       "707b160df4c4dece6cde52b222ce624b  707b160df4c4dece6cde52b222ce624b.jpg   \n",
       "c943647eee4de99fc1b4e233b9a7f47d  c943647eee4de99fc1b4e233b9a7f47d.jpg   \n",
       "\n",
       "                                     product_category_tree_0  \n",
       "uniq_id                                                       \n",
       "aab46b84f70cc6774afaafe1d6035de3            kitchen & dining  \n",
       "a1fa0e24b2249ffa81f688c4840f1eb8    beauty and personal care  \n",
       "eaf55e90d0e4295cb84cb0276e78c35c    beauty and personal care  \n",
       "4946e2411d24801b9e8f7dbe97ab1b93  home decor & festive needs  \n",
       "5307e0db12b1018746ac3801d189c379  home decor & festive needs  \n",
       "...                                                      ...  \n",
       "01089dc3618a0ab7304d784ef400b83d                   computers  \n",
       "5a5bb03499009f35759258263fc834a3                   computers  \n",
       "43da6e88dcb61e027ea9112cfab158ee             home furnishing  \n",
       "707b160df4c4dece6cde52b222ce624b             home furnishing  \n",
       "c943647eee4de99fc1b4e233b9a7f47d             home furnishing  \n",
       "\n",
       "[552 rows x 2 columns]"
      ]
     },
     "execution_count": 8,
     "metadata": {},
     "output_type": "execute_result"
    }
   ],
   "source": [
    "from sklearn.model_selection import train_test_split\n",
    "Xtrain, Xtest, ytrain, ytest = train_test_split(dfImagesCAT[dfImagesCAT.columns.difference([])], dfImagesCAT['product_category_tree_0'], test_size=0.2, random_state=0)\n",
    "Xtrain, Xval, ytrain, yval= train_test_split(Xtrain[Xtrain.columns.difference([])], Xtrain['product_category_tree_0'], test_size=0.2, random_state=0)\n",
    "\n",
    "\n",
    "Xtrain"
   ]
  },
  {
   "cell_type": "code",
   "execution_count": 9,
   "id": "7964f653-5ee8-4113-b3ef-6a06c896eef4",
   "metadata": {},
   "outputs": [
    {
     "name": "stdout",
     "output_type": "stream",
     "text": [
      "Found 552 validated image filenames belonging to 7 classes.\n",
      "Found 139 validated image filenames belonging to 7 classes.\n",
      "Found 173 validated image filenames belonging to 7 classes.\n"
     ]
    }
   ],
   "source": [
    "datagen_train = ImageDataGenerator(rescale=1./255,\n",
    "                             horizontal_flip=True, \n",
    "                             vertical_flip=True,\n",
    "                             width_shift_range=0.1,\n",
    "                             height_shift_range=0.1,\n",
    "                             rotation_range=20,\n",
    "                            ) #validation_split\n",
    "\n",
    "datagen_val = ImageDataGenerator(rescale=1./255)\n",
    "\n",
    "batch_train = 10\n",
    "batch_valid = batch_train\n",
    "\n",
    "tfTrain = datagen_train.flow_from_dataframe(Xtrain, directory=dirIMAGES, x_col='image', y_col='product_category_tree_0',\n",
    "                                      target_size=(224, 224), color_mode='rgb',\n",
    "                                      classes=None ,class_mode='categorical', batch_size=batch_train, \n",
    "                                      shuffle=True)\n",
    "\n",
    "tfValidation = datagen_val.flow_from_dataframe(Xval, directory=dirIMAGES, x_col='image', y_col='product_category_tree_0',\n",
    "                                          target_size=(224,224), color_mode='rgb', \n",
    "                                          classes=None ,class_mode='categorical', batch_size=batch_valid, \n",
    "                                          shuffle=True)\n",
    "\n",
    "tfTest = datagen_val.flow_from_dataframe(Xtest, directory=dirIMAGES, x_col='image', y_col='product_category_tree_0',\n",
    "                                          target_size=(224,224), color_mode='rgb', \n",
    "                                          classes=None ,class_mode='categorical', batch_size=batch_valid, \n",
    "                                          shuffle=False)\n"
   ]
  },
  {
   "cell_type": "code",
   "execution_count": 10,
   "id": "e15682b7-ba64-43ef-90ff-948e4226c822",
   "metadata": {},
   "outputs": [],
   "source": [
    "# COMO SAVOIR LE NBR DIMAGES DU tfTrain? c'est quel data type? Il y a un data cheet du Tf ou Keras?"
   ]
  },
  {
   "cell_type": "code",
   "execution_count": 11,
   "id": "7344af02-90eb-4fcb-9095-ab416f59812f",
   "metadata": {},
   "outputs": [
    {
     "data": {
      "text/plain": [
       "{'baby care': 0,\n",
       " 'beauty and personal care': 1,\n",
       " 'computers': 2,\n",
       " 'home decor & festive needs': 3,\n",
       " 'home furnishing': 4,\n",
       " 'kitchen & dining': 5,\n",
       " 'watches': 6}"
      ]
     },
     "execution_count": 11,
     "metadata": {},
     "output_type": "execute_result"
    }
   ],
   "source": [
    "dClasses = tfValidation.class_indices\n",
    "dClasses"
   ]
  },
  {
   "cell_type": "markdown",
   "id": "1a65d049-dbec-48d4-a8ab-d7690f904e8f",
   "metadata": {},
   "source": [
    "## VGG16 base model pre-trained on ImageNet dataset"
   ]
  },
  {
   "cell_type": "code",
   "execution_count": 12,
   "id": "8a5b8ddd-46b8-4eca-b568-228fa89ff67c",
   "metadata": {
    "tags": []
   },
   "outputs": [],
   "source": [
    "model = vgg16.VGG16(weights = \"imagenet\", include_top=False, input_shape = (224,224, 3)) #pooling='avg'\n",
    "#base_model.summary()"
   ]
  },
  {
   "cell_type": "markdown",
   "id": "2d402b7c-ee73-4b04-83a4-bbf9fe41b2f5",
   "metadata": {},
   "source": [
    "## freeze the classification layers in the base model"
   ]
  },
  {
   "cell_type": "code",
   "execution_count": 13,
   "id": "94dd7e5e-3a1b-4bad-825d-ecb984631cca",
   "metadata": {
    "tags": []
   },
   "outputs": [],
   "source": [
    "# iterate through its layers and lock them to make them not trainable with this code\n",
    "for layer in model.layers : #[:-5]:\n",
    "    layer.trainable = False\n",
    "\n",
    "#base_model.summary()"
   ]
  },
  {
   "cell_type": "code",
   "execution_count": 14,
   "id": "d5f5236f-9807-43f1-aef0-b7a2fb0d5644",
   "metadata": {
    "tags": []
   },
   "outputs": [],
   "source": [
    "# use “get_layer” method to save the last layer of the network\n",
    "last_layer = model.get_layer('block5_pool')\n",
    "\n",
    "# save the output of the last layer to be the input of the next layer\n",
    "last_output = last_layer.output\n",
    "\n",
    "x = Flatten()(last_output)\n",
    "\n",
    "# add our new softmax layer with 3 hidden units\n",
    "x = Dense(7, activation='softmax', name='softmax')(x)\n",
    "\n",
    "# instantiate a new_model using keras’s Model class\n",
    "new_model = Model(inputs=model.input, outputs=x)\n",
    "\n",
    "# print the new_model summary\n",
    "#new_model.summary()\n"
   ]
  },
  {
   "cell_type": "code",
   "execution_count": 15,
   "id": "a1c1b3b6-2240-4b78-bcf0-ca9edf7cccb3",
   "metadata": {},
   "outputs": [
    {
     "name": "stdout",
     "output_type": "stream",
     "text": [
      "Model: \"model\"\n",
      "_________________________________________________________________\n",
      "Layer (type)                 Output Shape              Param #   \n",
      "=================================================================\n",
      "input_1 (InputLayer)         [(None, 224, 224, 3)]     0         \n",
      "_________________________________________________________________\n",
      "block1_conv1 (Conv2D)        (None, 224, 224, 64)      1792      \n",
      "_________________________________________________________________\n",
      "block1_conv2 (Conv2D)        (None, 224, 224, 64)      36928     \n",
      "_________________________________________________________________\n",
      "block1_pool (MaxPooling2D)   (None, 112, 112, 64)      0         \n",
      "_________________________________________________________________\n",
      "block2_conv1 (Conv2D)        (None, 112, 112, 128)     73856     \n",
      "_________________________________________________________________\n",
      "block2_conv2 (Conv2D)        (None, 112, 112, 128)     147584    \n",
      "_________________________________________________________________\n",
      "block2_pool (MaxPooling2D)   (None, 56, 56, 128)       0         \n",
      "_________________________________________________________________\n",
      "block3_conv1 (Conv2D)        (None, 56, 56, 256)       295168    \n",
      "_________________________________________________________________\n",
      "block3_conv2 (Conv2D)        (None, 56, 56, 256)       590080    \n",
      "_________________________________________________________________\n",
      "block3_conv3 (Conv2D)        (None, 56, 56, 256)       590080    \n",
      "_________________________________________________________________\n",
      "block3_pool (MaxPooling2D)   (None, 28, 28, 256)       0         \n",
      "_________________________________________________________________\n",
      "block4_conv1 (Conv2D)        (None, 28, 28, 512)       1180160   \n",
      "_________________________________________________________________\n",
      "block4_conv2 (Conv2D)        (None, 28, 28, 512)       2359808   \n",
      "_________________________________________________________________\n",
      "block4_conv3 (Conv2D)        (None, 28, 28, 512)       2359808   \n",
      "_________________________________________________________________\n",
      "block4_pool (MaxPooling2D)   (None, 14, 14, 512)       0         \n",
      "_________________________________________________________________\n",
      "block5_conv1 (Conv2D)        (None, 14, 14, 512)       2359808   \n",
      "_________________________________________________________________\n",
      "block5_conv2 (Conv2D)        (None, 14, 14, 512)       2359808   \n",
      "_________________________________________________________________\n",
      "block5_conv3 (Conv2D)        (None, 14, 14, 512)       2359808   \n",
      "_________________________________________________________________\n",
      "block5_pool (MaxPooling2D)   (None, 7, 7, 512)         0         \n",
      "_________________________________________________________________\n",
      "flatten (Flatten)            (None, 25088)             0         \n",
      "_________________________________________________________________\n",
      "softmax (Dense)              (None, 7)                 175623    \n",
      "=================================================================\n",
      "Total params: 14,890,311\n",
      "Trainable params: 175,623\n",
      "Non-trainable params: 14,714,688\n",
      "_________________________________________________________________\n"
     ]
    }
   ],
   "source": [
    "# compile the model \n",
    "new_model.compile(loss = \"categorical_crossentropy\", optimizer = 'adam', metrics=[\"accuracy\"])\n",
    "#new_model.compile(Adam(lr=0.0001), loss='categorical_crossentropy', metrics=['accuracy'])\n",
    "new_model.summary()"
   ]
  },
  {
   "cell_type": "code",
   "execution_count": 16,
   "id": "679f4b5e-1915-4898-8153-686c9f3dbd19",
   "metadata": {},
   "outputs": [],
   "source": [
    "STEP_TRAIN = len(Xtrain)//batch_train\n",
    "STEP_VALD = len(Xval)//batch_valid"
   ]
  },
  {
   "cell_type": "code",
   "execution_count": 18,
   "id": "a5a53d61-eb95-4c16-bf29-fed3831eed40",
   "metadata": {
    "jp-MarkdownHeadingCollapsed": true,
    "tags": []
   },
   "outputs": [
    {
     "name": "stderr",
     "output_type": "stream",
     "text": [
      "2021-10-01 08:56:43.246486: I tensorflow/compiler/mlir/mlir_graph_optimization_pass.cc:185] None of the MLIR Optimization Passes are enabled (registered 2)\n"
     ]
    },
    {
     "name": "stdout",
     "output_type": "stream",
     "text": [
      "Epoch 1/20\n",
      "18/55 [========>.....................] - ETA: 1:35 - loss: 2.4553 - accuracy: 0.3111"
     ]
    },
    {
     "name": "stderr",
     "output_type": "stream",
     "text": [
      "/home/chispitas/anaconda3/lib/python3.8/site-packages/PIL/Image.py:2911: DecompressionBombWarning: Image size (93680328 pixels) exceeds limit of 89478485 pixels, could be decompression bomb DOS attack.\n",
      "  warnings.warn(\n"
     ]
    },
    {
     "name": "stdout",
     "output_type": "stream",
     "text": [
      "55/55 [==============================] - 176s 3s/step - loss: 1.8775 - accuracy: 0.4631 - val_loss: 1.0337 - val_accuracy: 0.6923\n",
      "\n",
      "Epoch 00001: val_accuracy improved from -inf to 0.69231, saving model to /media/chispitas/DATOS/Documento/Estudios/DataScientist/Projecto/P6-Classifiez automatiquement des biens de consommation/Code/CV/signlanguage.model.hdf5\n",
      "Epoch 2/20\n",
      "55/55 [==============================] - 172s 3s/step - loss: 1.0559 - accuracy: 0.6624 - val_loss: 0.9107 - val_accuracy: 0.7308\n",
      "\n",
      "Epoch 00002: val_accuracy improved from 0.69231 to 0.73077, saving model to /media/chispitas/DATOS/Documento/Estudios/DataScientist/Projecto/P6-Classifiez automatiquement des biens de consommation/Code/CV/signlanguage.model.hdf5\n",
      "Epoch 3/20\n",
      "55/55 [==============================] - 176s 3s/step - loss: 0.6930 - accuracy: 0.7860 - val_loss: 0.8263 - val_accuracy: 0.7462\n",
      "\n",
      "Epoch 00003: val_accuracy improved from 0.73077 to 0.74615, saving model to /media/chispitas/DATOS/Documento/Estudios/DataScientist/Projecto/P6-Classifiez automatiquement des biens de consommation/Code/CV/signlanguage.model.hdf5\n",
      "Epoch 4/20\n",
      "55/55 [==============================] - 184s 3s/step - loss: 0.6361 - accuracy: 0.7749 - val_loss: 0.6768 - val_accuracy: 0.8231\n",
      "\n",
      "Epoch 00004: val_accuracy improved from 0.74615 to 0.82308, saving model to /media/chispitas/DATOS/Documento/Estudios/DataScientist/Projecto/P6-Classifiez automatiquement des biens de consommation/Code/CV/signlanguage.model.hdf5\n",
      "Epoch 5/20\n",
      "55/55 [==============================] - 223s 4s/step - loss: 0.4400 - accuracy: 0.8635 - val_loss: 0.6664 - val_accuracy: 0.8231\n",
      "\n",
      "Epoch 00005: val_accuracy did not improve from 0.82308\n",
      "Epoch 6/20\n",
      "55/55 [==============================] - 176s 3s/step - loss: 0.4147 - accuracy: 0.8579 - val_loss: 0.8625 - val_accuracy: 0.7769\n",
      "\n",
      "Epoch 00006: val_accuracy did not improve from 0.82308\n",
      "Epoch 7/20\n",
      "55/55 [==============================] - 196s 4s/step - loss: 0.3761 - accuracy: 0.8561 - val_loss: 0.7697 - val_accuracy: 0.7923\n",
      "\n",
      "Epoch 00007: val_accuracy did not improve from 0.82308\n",
      "Epoch 8/20\n",
      "55/55 [==============================] - 179s 3s/step - loss: 0.2924 - accuracy: 0.8967 - val_loss: 0.8648 - val_accuracy: 0.7846\n",
      "\n",
      "Epoch 00008: val_accuracy did not improve from 0.82308\n",
      "Epoch 00008: early stopping\n"
     ]
    },
    {
     "data": {
      "text/plain": [
       "<Figure size 1440x864 with 0 Axes>"
      ]
     },
     "metadata": {},
     "output_type": "display_data"
    },
    {
     "data": {
      "image/png": "[encoded data removed]",
      "text/plain": [
       "<Figure size 576x360 with 1 Axes>"
      ]
     },
     "metadata": {},
     "output_type": "display_data"
    }
   ],
   "source": [
    "from keras.callbacks import ModelCheckpoint\n",
    "import tensorflow as tf\n",
    "metric = 'val_accuracy'\n",
    "\n",
    "early_stopping = EarlyStopping(monitor=metric, patience=4, verbose=1) #, min_delta=0.0\n",
    "\n",
    "checkpointer = ModelCheckpoint(filepath=dirCV+'signlanguage.model.hdf5', monitor=metric, verbose=1,\n",
    "                               save_best_only=True, save_weights_only=False, mode='auto') #, save_freq=batch_train\n",
    "\n",
    "#val_generator = val_dataset.generate(batch_size=batch_size,shuffle=False,transformations=[],label_encoder=ssd_input_encoder,\n",
    "                                    #returns={'processed_images','encoded_labels'},keep_images_without_gt=False)\n",
    "    \n",
    "history=new_model.fit(tfTrain,\n",
    "                      steps_per_epoch=STEP_TRAIN,\n",
    "                      epochs=20,\n",
    "                      validation_data=tfValidation,\n",
    "                      validation_steps=STEP_VALD,\n",
    "                      verbose=1,\n",
    "                      callbacks=[checkpointer, early_stopping]\n",
    "                    ) \n",
    "\n",
    "fig = plt.figure(figsize=(20,12))\n",
    "pd.DataFrame(history.history).plot(figsize=(8, 5))\n",
    "plt.grid(True)\n",
    "plt.xlabel('Epochs')\n",
    "x = Dense(256, activation=\"relu\")(x)\n",
    "fig.savefig(dirCV + 'VGG16.pdf', bbox_inches =\"tight\", pad_inches = 0.1, format='pdf')"
   ]
  },
  {
   "cell_type": "code",
   "execution_count": 19,
   "id": "8cbe9d46-afdd-401f-b294-9417ac02ac76",
   "metadata": {},
   "outputs": [],
   "source": [
    "new_model.load_weights(dirCV+'signlanguage.model.hdf5')"
   ]
  },
  {
   "cell_type": "code",
   "execution_count": 20,
   "id": "8b23ecac-4f41-4ff4-ab77-7c7294f65f55",
   "metadata": {},
   "outputs": [
    {
     "name": "stdout",
     "output_type": "stream",
     "text": [
      "18/18 [==============================] - 54s 3s/step - loss: 1.0557 - accuracy: 0.7168\n"
     ]
    },
    {
     "data": {
      "text/plain": [
       "[1.0556737184524536, 0.7167630195617676]"
      ]
     },
     "execution_count": 20,
     "metadata": {},
     "output_type": "execute_result"
    }
   ],
   "source": [
    "new_model.evaluate(tfTest)"
   ]
  },
  {
   "cell_type": "markdown",
   "id": "673f3aa0-41f6-48e3-80ae-15b943ea4a37",
   "metadata": {},
   "source": [
    "new_model.evaluate_generator(generator=tfValidation, steps=STEP_VALD)"
   ]
  },
  {
   "cell_type": "markdown",
   "id": "adfa25d3-991f-4121-96bb-71fec251490d",
   "metadata": {},
   "source": [
    "new_model.evaluate(tfValidation)"
   ]
  },
  {
   "cell_type": "markdown",
   "id": "51855e94-e7ca-4e1a-89fa-28a8b417128d",
   "metadata": {},
   "source": [
    "## Confusion matrix"
   ]
  },
  {
   "cell_type": "code",
   "execution_count": 21,
   "id": "585619b9-6c39-4bbe-a1d3-a3477fdcb11e",
   "metadata": {},
   "outputs": [
    {
     "data": {
      "text/plain": [
       "{0: 'baby care',\n",
       " 1: 'beauty and personal care',\n",
       " 2: 'computers',\n",
       " 3: 'home decor & festive needs',\n",
       " 4: 'home furnishing',\n",
       " 5: 'kitchen & dining',\n",
       " 6: 'watches'}"
      ]
     },
     "execution_count": 21,
     "metadata": {},
     "output_type": "execute_result"
    }
   ],
   "source": [
    "dClasses = tfTest.class_indices\n",
    "dClasses = dict((v,k) for k,v in dClasses.items()) #Exange key and values\n",
    "#Translate: np.vectorize(dClasses.get)(y_pred)\n",
    "dClasses"
   ]
  },
  {
   "cell_type": "code",
   "execution_count": 22,
   "id": "263ec1e0-606d-4c77-a1b4-c3695369b637",
   "metadata": {},
   "outputs": [
    {
     "data": {
      "text/plain": [
       "array([5, 1, 0, 4, 0, 4, 4, 1, 3, 2, 4, 3, 2, 6, 0, 1, 3, 5, 6, 0, 2, 3,\n",
       "       2, 3, 0, 4, 5, 5, 0, 0, 6, 0, 3, 1, 3, 3, 2, 3, 0, 5, 0, 1, 0, 3,\n",
       "       4, 1, 6, 0, 3, 4, 4, 2, 1, 3, 1, 1, 4, 4, 5, 6, 5, 1, 6, 1, 3, 0,\n",
       "       3, 1, 0, 6, 3, 3, 0, 3, 1, 5, 0, 3, 2, 3, 1, 5, 6, 6, 0, 4, 0, 0,\n",
       "       4, 0, 0, 5, 3, 6, 5, 4, 2, 6, 0, 2, 0, 5, 1, 5, 0, 4, 0, 0, 1, 2,\n",
       "       1, 2, 5, 5, 1, 2, 1, 2, 3, 0, 3, 2, 4, 6, 0, 1, 6, 0, 3, 0, 2, 2,\n",
       "       4, 1, 0, 3, 3, 0, 0, 5, 3, 1, 0, 4, 2, 4, 5, 3, 2, 1, 5, 2, 0, 5,\n",
       "       5, 3, 1, 3, 0, 4, 2, 4, 5, 3, 2, 4, 0, 2, 1, 5, 5, 3, 6])"
      ]
     },
     "execution_count": 22,
     "metadata": {},
     "output_type": "execute_result"
    }
   ],
   "source": [
    "y_pred0 = new_model.predict(tfTest)\n",
    "y_pred = np.argmax(y_pred0,axis=1)\n",
    "#y_pred = np.vectorize(dClasses.get)(y_pred)\n",
    "y_pred"
   ]
  },
  {
   "cell_type": "code",
   "execution_count": 23,
   "id": "67d8f290-3270-4be5-879a-98acdc587d33",
   "metadata": {},
   "outputs": [
    {
     "data": {
      "text/plain": [
       "array([5, 1, 0, 0, 0, 4, 3, 1, 2, 2, 4, 3, 5, 6, 0, 1, 3, 5, 6, 0, 2, 3,\n",
       "       2, 5, 0, 4, 5, 5, 4, 0, 6, 0, 3, 1, 1, 6, 2, 3, 0, 2, 0, 1, 4, 3,\n",
       "       4, 2, 6, 0, 0, 4, 0, 2, 3, 3, 2, 1, 4, 4, 5, 6, 5, 1, 6, 0, 3, 0,\n",
       "       4, 1, 4, 4, 4, 3, 0, 4, 1, 5, 0, 3, 2, 4, 4, 5, 6, 6, 0, 4, 4, 0,\n",
       "       3, 0, 0, 5, 6, 6, 2, 4, 2, 6, 4, 2, 4, 5, 2, 1, 0, 4, 0, 0, 0, 2,\n",
       "       1, 2, 0, 5, 5, 2, 1, 2, 3, 5, 3, 2, 4, 6, 5, 3, 6, 4, 3, 0, 2, 2,\n",
       "       0, 2, 0, 3, 0, 3, 0, 5, 3, 1, 4, 0, 2, 4, 5, 3, 2, 5, 5, 2, 0, 3,\n",
       "       5, 3, 1, 3, 0, 4, 2, 4, 5, 2, 2, 4, 0, 0, 4, 5, 5, 3, 6])"
      ]
     },
     "execution_count": 23,
     "metadata": {},
     "output_type": "execute_result"
    }
   ],
   "source": [
    "y_label = np.array(tfTest.labels)\n",
    "#y_label = np.vectorize(dClasses.get)(y_label)\n",
    "y_label"
   ]
  },
  {
   "cell_type": "code",
   "execution_count": 24,
   "id": "a250cf11-7383-4857-aff7-8e15b47df1ac",
   "metadata": {},
   "outputs": [
    {
     "data": {
      "text/plain": [
       "'0.72'"
      ]
     },
     "execution_count": 24,
     "metadata": {},
     "output_type": "execute_result"
    }
   ],
   "source": [
    "from sklearn.metrics import accuracy_score \n",
    "score = accuracy_score(y_label, y_pred)\n",
    "score = str(score.round(2))\n",
    "score"
   ]
  },
  {
   "cell_type": "code",
   "execution_count": 25,
   "id": "1603ddb1-8d58-4a91-ad28-0d58a2d85d2a",
   "metadata": {},
   "outputs": [],
   "source": [
    "from sklearn.metrics import confusion_matrix\n",
    "npConfusionM = confusion_matrix(y_label, y_pred)"
   ]
  },
  {
   "cell_type": "code",
   "execution_count": 26,
   "id": "4f67fe75-d918-4f2e-9a87-e8fc83b4b76c",
   "metadata": {},
   "outputs": [],
   "source": [
    "dfConfusionM = pd.DataFrame(npConfusionM)\n",
    "dfConfusionM.columns = list(dClasses.values())\n",
    "dfConfusionM.index = list(dClasses.values())"
   ]
  },
  {
   "cell_type": "code",
   "execution_count": 27,
   "id": "31c2e4dd-ba63-4769-ac27-0587520e3c0a",
   "metadata": {},
   "outputs": [
    {
     "data": {
      "image/png": "[encoded data removed]",
      "text/plain": [
       "<Figure size 229.091x229.091 with 1 Axes>"
      ]
     },
     "metadata": {},
     "output_type": "display_data"
    }
   ],
   "source": [
    "plt.rcParams[\"figure.figsize\"] = [len(dfConfusionM)/2.2,len(dfConfusionM)/2.2]\n",
    "heatmap = sns.heatmap(dfConfusionM,  annot=True, fmt='.1f', cmap='BrBG', cbar=False) #, mask=mask)\n",
    "heatmap.set(xlabel='Predicted', ylabel='Label') #title='Accuracy:'+score\n",
    "plt.savefig(dirCV + '3-dfConfusionM-Keras.pdf', bbox_inches =\"tight\", pad_inches = 0.1, format='pdf')\n",
    "plt.style.use('seaborn-poster') "
   ]
  },
  {
   "cell_type": "code",
   "execution_count": null,
   "id": "808f2a97-4728-42bc-a6a1-341b207b47b9",
   "metadata": {},
   "outputs": [],
   "source": []
  },
  {
   "cell_type": "code",
   "execution_count": 28,
   "id": "19c7c83a-95b8-42e2-b319-ef82601394d0",
   "metadata": {},
   "outputs": [
    {
     "ename": "NameError",
     "evalue": "name 'STOOPPP' is not defined",
     "output_type": "error",
     "traceback": [
      "\u001b[0;31m---------------------------------------------------------------------------\u001b[0m",
      "\u001b[0;31mNameError\u001b[0m                                 Traceback (most recent call last)",
      "\u001b[0;32m/tmp/ipykernel_9844/2173604394.py\u001b[0m in \u001b[0;36m<module>\u001b[0;34m\u001b[0m\n\u001b[0;32m----> 1\u001b[0;31m \u001b[0mSTOOPPP\u001b[0m\u001b[0;34m\u001b[0m\u001b[0;34m\u001b[0m\u001b[0m\n\u001b[0m",
      "\u001b[0;31mNameError\u001b[0m: name 'STOOPPP' is not defined"
     ]
    }
   ],
   "source": [
    "STOOPPP"
   ]
  },
  {
   "cell_type": "code",
   "execution_count": null,
   "id": "1aaeae98-d02a-4f30-b872-39c9745bd808",
   "metadata": {},
   "outputs": [],
   "source": []
  },
  {
   "cell_type": "markdown",
   "id": "3c27140a-6e7b-4b63-a19c-7c1b3ad09b5f",
   "metadata": {},
   "source": [
    "# OPEN CV"
   ]
  },
  {
   "cell_type": "markdown",
   "id": "efcc5883-a3f3-4ce3-914a-09cfaf072d9b",
   "metadata": {
    "tags": []
   },
   "source": [
    "## Pre-Processing"
   ]
  },
  {
   "cell_type": "code",
   "execution_count": null,
   "id": "b71a0a77-879c-42c0-a266-69079e4ea0c5",
   "metadata": {},
   "outputs": [],
   "source": [
    "import cv2\n",
    "import glob"
   ]
  },
  {
   "cell_type": "code",
   "execution_count": null,
   "id": "b9877241-9764-4c21-afa8-105e0e0937d0",
   "metadata": {
    "tags": []
   },
   "outputs": [],
   "source": [
    "#https://github.com/ipeaGIT/geobr\n",
    "#https://www.scikit-yb.org/en/latest/api/cluster/silhouette.html\n",
    "#https://zhiyzuo.github.io/Plot-Lorenz/\n",
    "#https://pandas.pydata.org/pandas-docs/stable/user_guide/\n",
    "#https://pandas.pydata.org/pandas-docs/stable/user_guide/sparse.html#sparsearray\n",
    "import pandas as pd\n",
    "from pandas_profiling import ProfileReport #https://pandas-profiling.github.io/pandas-profiling/docs/master/index.html\n",
    "import csv\n",
    "#import qgrid\n",
    "import numpy as np\n",
    "%matplotlib inline\n",
    "import matplotlib.pyplot as plt\n",
    "import seaborn as sns\n",
    "pd.set_option('display.max_columns', None) #Montrer toutes les colonnes\n",
    "#https://github.com/pandas-profiling/pandas-profiling\n",
    "\n",
    "#import geopandas #pip install geopandas https://geopandas.org/index.html\n",
    "import pingouin as pg\n",
    "import scipy\n",
    "#from pca import pca #pip install pca https://github.com/erdogant/pca\n",
    "from sklearn.decomposition import PCA\n",
    "from sklearn.manifold import TSNE\n",
    "import joblib\n",
    "\n",
    "import ast #Tranfromer un dictioner\n",
    "    \n",
    "#import dask.dataframe as dd\n",
    "#%pip  install \"dask[complete]\"\n",
    "#!pip  install \"dask[complete]\"\n",
    "\n",
    "dirDATA = '/media/chispitas/DATOS/Documento/Estudios/DataScientist/Projecto/P6-Classifiez automatiquement des biens de consommation/Code/Data/Flipkart/'\n",
    "dirIMAGES = '/media/chispitas/DATOS/Documento/Estudios/DataScientist/Projecto/P6-Classifiez automatiquement des biens de consommation/Code/Data/Flipkart/Images/'\n",
    "dirCLEAN = '/media/chispitas/DATOS/Documento/Estudios/DataScientist/Projecto/P6-Classifiez automatiquement des biens de consommation/Code/Cleaning/'\n",
    "dirCV = '/media/chispitas/DATOS/Documento/Estudios/DataScientist/Projecto/P6-Classifiez automatiquement des biens de consommation/Code/CV/'\n",
    "dirIMAGES = '/media/chispitas/DATOS/Documento/Estudios/DataScientist/Projecto/P6-Classifiez automatiquement des biens de consommation/Code/Data/Flipkart/Images0/'\n",
    "\n",
    "\n",
    "dir_flipkart= dirDATA + 'flipkart_com-ecommerce_sample_1050.csv'"
   ]
  },
  {
   "cell_type": "code",
   "execution_count": null,
   "id": "24b27ec1-b663-42b0-8fa7-30c24c63b0a6",
   "metadata": {},
   "outputs": [],
   "source": [
    "dfImagesCAT = pd.read_csv(dirCV+'dfDATA_Clean.csv', encoding='utf-8', index_col=0) #, delimiter='\\t', lineterminator=\"\\n\", \n",
    "dfImagesCAT"
   ]
  },
  {
   "cell_type": "markdown",
   "id": "36b53ead-08b2-403e-ae96-578032129a6d",
   "metadata": {
    "tags": []
   },
   "source": [
    "# STYLE Graph"
   ]
  },
  {
   "cell_type": "code",
   "execution_count": null,
   "id": "13d22758-a1d1-4b20-bf4b-82a1dafb3cda",
   "metadata": {
    "tags": []
   },
   "outputs": [],
   "source": [
    "#using the style \n",
    "plt.style.use('seaborn-ticks')\n",
    "plt.style.use('seaborn-notebook') \n",
    "plt.style.use('seaborn-poster') \n",
    "plt.rcParams[\"figure.figsize\"] = [10,8]\n",
    "\n",
    "#Width\n",
    "plt.rcParams['axes.linewidth'] = 1.5\n",
    "plt.rcParams['figure.titleweight'] = 'bold'\n",
    "plt.rcParams['font.weight'] = 'bold'\n",
    "plt.rcParams['axes.titleweight'] = 'bold'\n",
    "plt.rcParams['axes.labelweight'] = 'bold'\n",
    "\n",
    "#Legend\n",
    "#plt.rcParams['legend.loc'] = 'center left'\n",
    "plt.rcParams['legend.fontsize'] = 'medium'\n",
    "plt.rcParams['legend.frameon'] = True\n",
    "plt.rcParams['legend.edgecolor'] = 'black'\n",
    "plt.rcParams['legend.facecolor'] = 'w'\n",
    "plt.rcParams['legend.markerscale'] = 2\n",
    "\n",
    "#Scatter marker\n",
    "plt.rcParams['scatter.marker'] = '.'\n",
    "plt.rcParams['text.color'] = 'black'\n",
    "plt.rcParams['axes.labelcolor'] = 'black'\n",
    "plt.rcParams['xtick.color'] = 'black'\n",
    "plt.rcParams['ytick.color'] = 'black'"
   ]
  },
  {
   "cell_type": "markdown",
   "id": "9655349b-8a46-4ae8-aedf-4b2ceb886307",
   "metadata": {},
   "source": [
    "## Pre-Processing"
   ]
  },
  {
   "cell_type": "code",
   "execution_count": null,
   "id": "1baa9961-460b-463d-83de-d016cb45a923",
   "metadata": {
    "tags": []
   },
   "outputs": [],
   "source": [
    "def A2B(npImagesA, npImagesB,name):\n",
    "    dirCV = '/media/chispitas/DATOS/Documento/Estudios/DataScientist/Projecto/P6-Classifiez automatiquement des biens de consommation/Code/CV/'\n",
    "    plt.style.use('seaborn-notebook') \n",
    "\n",
    "    nc = 6\n",
    "    nf = 2\n",
    "\n",
    "    fig = plt.figure(figsize=(15*nc/2, 15*nf/2))\n",
    "    plt.subplots_adjust(wspace=0.1, hspace=0.1) #interspace entre graphiques\n",
    "\n",
    "    cc = -1\n",
    "    for i in range(0,6):\n",
    "        cc = cc + 1\n",
    "\n",
    "        ax = fig.add_subplot(nf, nc, (cc+1))\n",
    "        ax = plt.imshow(npImagesA[i], cmap='gray')\n",
    "        cc = cc + 1\n",
    "        ax = fig.add_subplot(nf, nc, (cc+1))\n",
    "        ax = plt.imshow(npImagesB[i], cmap='gray')\n",
    "        #ax.set_title('')\n",
    "        #ax.set_ylabel('')\n",
    "        #ax.set_xlabel('')\n",
    "        #ax.set_xscale('symlog', linthresh=10000000)\n",
    "    plt.show()\n",
    "    fig.savefig(dirCV + name+'.pdf', bbox_inches =\"tight\", pad_inches = 0.1, format='pdf')"
   ]
  },
  {
   "cell_type": "markdown",
   "id": "aeadbb11-9c78-4080-ae63-18c1fa40db7f",
   "metadata": {},
   "source": [
    "glob.glob(dirIMAGES+'*.jpg')"
   ]
  },
  {
   "cell_type": "code",
   "execution_count": null,
   "id": "f4604af2-df24-4966-98f0-7cee911b1377",
   "metadata": {},
   "outputs": [],
   "source": [
    "lImages = []\n",
    "\n",
    "for img in dfImagesCAT['image']:\n",
    "    lImages.append(dirIMAGES+img)\n",
    "len(lImages)"
   ]
  },
  {
   "cell_type": "markdown",
   "id": "aab764fd-5683-4fc4-89f0-065e2bca4422",
   "metadata": {},
   "source": [
    "import cv2\n",
    "import glob\n",
    "npImagesA = [cv2.imread(imag) for imag in glob.glob(dirIMAGES+'*.jpg')]\n",
    "A2B(npImagesA[::int(len(npImagesA)/6)], npImagesA[::int(len(npImagesA)/6)], 'name')"
   ]
  },
  {
   "cell_type": "code",
   "execution_count": null,
   "id": "9efcec09-83a3-4158-b62d-656a797d06eb",
   "metadata": {},
   "outputs": [],
   "source": [
    "npImagesA = [cv2.imread(imag) for imag in lImages]\n",
    "A2B(npImagesA[::int(len(npImagesA)/6)], npImagesA[::int(len(npImagesA)/6)], 'original')"
   ]
  },
  {
   "cell_type": "code",
   "execution_count": null,
   "id": "d417cb83-c9a3-4d71-a0a7-6a12ff5633a9",
   "metadata": {},
   "outputs": [],
   "source": [
    "npImagesB = [cv2.cvtColor(npImagesA[i], cv2.COLOR_BGR2RGB) for i in range(0,len(npImagesA))]\n",
    "A2B(npImagesA[::int(len(npImagesA)/6)], npImagesB[::int(len(npImagesB)/6)], 'RGB')"
   ]
  },
  {
   "cell_type": "code",
   "execution_count": null,
   "id": "30f45f24-9f8b-47c3-b7cb-9bc396f10c6c",
   "metadata": {},
   "outputs": [],
   "source": [
    "npImagesA = npImagesB\n",
    "\n",
    "npImagesB = [cv2.cvtColor(npImagesA[i], cv2.COLOR_RGB2GRAY) for i in range(0,len(npImagesA))]\n",
    "A2B(npImagesA[::int(len(npImagesA)/6)], npImagesB[::int(len(npImagesB)/6)], 'GRAY')"
   ]
  },
  {
   "cell_type": "markdown",
   "id": "627cbaff-6093-4b68-9c7d-046055a2e340",
   "metadata": {},
   "source": [
    "### Scaling "
   ]
  },
  {
   "cell_type": "code",
   "execution_count": null,
   "id": "53883600-41f4-4e98-b0d8-027f5cb925f2",
   "metadata": {},
   "outputs": [],
   "source": [
    "npImagesA = npImagesB\n",
    "\n",
    "# Récupérer et afficher la taille de l'image (en pixels)\n",
    "npW = np.zeros(len(npImagesA))\n",
    "npH = np.zeros(len(npImagesA))\n",
    "\n",
    "for i in range(0,len(npImagesA)):\n",
    "    npW[i] = npImagesA[i].shape[0]\n",
    "    npH[i] = npImagesA[i].shape[1]\n",
    "dfSIZE = pd.DataFrame([npW,npH], index=['W','H']).T"
   ]
  },
  {
   "cell_type": "code",
   "execution_count": null,
   "id": "cb6c682d-340f-4daa-a4a9-2c03bb8156fd",
   "metadata": {},
   "outputs": [],
   "source": [
    "fig = plt.figure()\n",
    "sns.boxplot(data=dfSIZE, showfliers=False, showmeans = True)\n",
    "plt.show()\n",
    "#ax.set_yscale('log')\n",
    "fig.savefig(dirCV + '1-BoxPlot_Scaling.pdf', bbox_inches =\"tight\", pad_inches = 0.1, format='pdf')"
   ]
  },
  {
   "cell_type": "code",
   "execution_count": null,
   "id": "49f7cafe-8084-4136-87aa-e6f67d2b7a85",
   "metadata": {},
   "outputs": [],
   "source": [
    "dfSIZE.median()"
   ]
  },
  {
   "cell_type": "code",
   "execution_count": null,
   "id": "86abbafe-ab4a-4df7-95b6-a66e780d6503",
   "metadata": {},
   "outputs": [],
   "source": [
    "npImagesA = npImagesB\n",
    "\n",
    "npImagesB = [cv2.resize(npImagesA[i], (int(dfSIZE.median()[0]), int(dfSIZE.median()[1])), interpolation=cv2.INTER_LINEAR) for i in range(0,len(npImagesA))]\n",
    "A2B(npImagesA[::int(len(npImagesA)/6)], npImagesB[::int(len(npImagesB)/6)], 'resize')"
   ]
  },
  {
   "cell_type": "markdown",
   "id": "798efb5d-ee6e-43de-845e-fb25a1cfd7a5",
   "metadata": {},
   "source": [
    "### Gaussian filtering"
   ]
  },
  {
   "cell_type": "code",
   "execution_count": null,
   "id": "fb5fbe10-ac92-44a6-bff7-b59c7edb67b4",
   "metadata": {},
   "outputs": [],
   "source": [
    "npImagesA = npImagesB\n",
    "\n",
    "npImagesB = [cv2.GaussianBlur(npImagesA[i], (9,9), 1000) for i in range(0,len(npImagesA))]\n",
    "A2B(npImagesA[::int(len(npImagesA)/6)], npImagesB[::int(len(npImagesB)/6)], 'Gauss')"
   ]
  },
  {
   "cell_type": "markdown",
   "id": "8ea8a25a-5c6b-4855-ab9c-c318f8de4745",
   "metadata": {},
   "source": [
    "### Histogram equalization"
   ]
  },
  {
   "cell_type": "code",
   "execution_count": null,
   "id": "1fab2a9b-95b7-444f-8458-1d786f8ae347",
   "metadata": {
    "tags": []
   },
   "outputs": [],
   "source": [
    "def GrayHIST(npImagesA, npImagesB,name):\n",
    "    dirCV = '/media/chispitas/DATOS/Documento/Estudios/DataScientist/Projecto/P6-Classifiez automatiquement des biens de consommation/Code/CV/'\n",
    "    plt.style.use('seaborn-notebook') \n",
    "\n",
    "    nc = 4\n",
    "    nf = 6\n",
    "\n",
    "    fig = plt.figure(figsize=(15*nc/2, 15*nf/2))\n",
    "    plt.subplots_adjust(wspace=0.1, hspace=0.1) #interspace entre graphiques\n",
    "\n",
    "    cc = -1\n",
    "    for i in range(0,6):\n",
    "        cc = cc + 1\n",
    "        ax = fig.add_subplot(nf, nc, (cc+1))\n",
    "        ax = plt.imshow(npImagesA[i], cmap='gray')\n",
    "        \n",
    "        cc = cc + 1\n",
    "        ax = fig.add_subplot(nf, nc, (cc+1))\n",
    "        hist = cv2.calcHist([npImagesA[i]], [0], None, [256], [0, 256])\n",
    "        ax = plt.plot(hist)\n",
    "        \n",
    "        cc = cc + 1\n",
    "        ax = fig.add_subplot(nf, nc, (cc+1))\n",
    "        ax = plt.imshow(npImagesB[i], cmap='gray')\n",
    "        \n",
    "        cc = cc + 1\n",
    "        ax = fig.add_subplot(nf, nc, (cc+1))\n",
    "        gray_image_eq = cv2.equalizeHist(npImagesB[i])\n",
    "        hist_eq = cv2.calcHist([gray_image_eq], [0], None, [256], [0, 256])\n",
    "        ax = plt.plot(hist_eq)\n",
    "        #ax.set_title('')\n",
    "        #ax.set_ylabel('')\n",
    "        #ax.set_xlabel('')\n",
    "        #ax.set_xscale('symlog', linthresh=10000000)\n",
    "    plt.show()\n",
    "    fig.savefig(dirCV + name+'.pdf', bbox_inches =\"tight\", pad_inches = 0.1, format='pdf')"
   ]
  },
  {
   "cell_type": "markdown",
   "id": "6c74888b-8fd6-46aa-8d63-d60e48b62833",
   "metadata": {},
   "source": [
    "npImagesA = npImagesB\n",
    "\n",
    "npImagesB = [cv2.equalizeHist(npImagesB[i]) for i in range(0,len(npImagesA))]\n",
    "GrayHIST(npImagesA[::int(len(npImagesA)/6)], npImagesB[::int(len(npImagesB)/6)], 'name')"
   ]
  },
  {
   "cell_type": "markdown",
   "id": "5871b8d5-250c-471f-be28-67a9bb9f89c4",
   "metadata": {},
   "source": [
    "### CLAHE"
   ]
  },
  {
   "cell_type": "code",
   "execution_count": null,
   "id": "2e73f004-65fd-41a3-85fb-c559934f7058",
   "metadata": {
    "tags": []
   },
   "outputs": [],
   "source": [
    "def GrayCLAHE(npImagesA, pImagesNormal, name):\n",
    "    dirCV = '/media/chispitas/DATOS/Documento/Estudios/DataScientist/Projecto/P6-Classifiez automatiquement des biens de consommation/Code/CV/'\n",
    "    plt.style.use('seaborn-notebook') \n",
    "\n",
    "    nc = 5\n",
    "    nf = 6\n",
    "\n",
    "    fig = plt.figure(figsize=(15*nc/2, 15*nf/2))\n",
    "    plt.subplots_adjust(wspace=0.1, hspace=0.1) #interspace entre graphiques\n",
    "\n",
    "    cc = -1\n",
    "    for i in range(0,6):\n",
    "        cc = cc + 1\n",
    "        ax = fig.add_subplot(nf, nc, (cc+1))\n",
    "        ax = plt.imshow(npImagesA[i], cmap='gray')\n",
    "        \n",
    "        cc = cc + 1\n",
    "        ax = fig.add_subplot(nf, nc, (cc+1))\n",
    "        ax = plt.imshow(pImagesNormal[i], cmap='gray')\n",
    "\n",
    "        cc = cc + 1\n",
    "        ax = fig.add_subplot(nf, nc, (cc+1))\n",
    "        clahe = cv2.createCLAHE(clipLimit=1.1)\n",
    "        gray_image_clahe = clahe.apply(npImagesA[i])\n",
    "        ax = plt.imshow(gray_image_clahe, cmap='gray')\n",
    "\n",
    "        cc = cc + 1\n",
    "        ax = fig.add_subplot(nf, nc, (cc+1))\n",
    "        clahe.setClipLimit(1.5)\n",
    "        gray_image_clahe = clahe.apply(npImagesA[i])\n",
    "        ax = plt.imshow(gray_image_clahe, cmap='gray')\n",
    "\n",
    "        cc = cc + 1\n",
    "        ax = fig.add_subplot(nf, nc, (cc+1))\n",
    "        clahe.setClipLimit(3)\n",
    "        gray_image_clahe = clahe.apply(npImagesA[i])\n",
    "        ax = plt.imshow(gray_image_clahe, cmap='gray')\n",
    "\n",
    "        #ax.set_title('')\n",
    "        #ax.set_ylabel('')\n",
    "        #ax.set_xlabel('')\n",
    "        #ax.set_xscale('symlog', linthresh=10000000)\n",
    "    plt.show()\n",
    "    fig.savefig(dirCV + name+'.pdf', bbox_inches =\"tight\", pad_inches = 0.1, format='pdf')"
   ]
  },
  {
   "cell_type": "code",
   "execution_count": null,
   "id": "b45b4c3b-522f-43ca-813f-64662e067342",
   "metadata": {
    "tags": []
   },
   "outputs": [],
   "source": [
    "def GrayCLAHEhist(npImagesA, pImagesNormal, name):\n",
    "    dirCV = '/media/chispitas/DATOS/Documento/Estudios/DataScientist/Projecto/P6-Classifiez automatiquement des biens de consommation/Code/CV/'\n",
    "    plt.style.use('seaborn-notebook') \n",
    "\n",
    "    nc = 5\n",
    "    nf = 6\n",
    "\n",
    "    fig = plt.figure(figsize=(15*nc/2, 15*nf/2))\n",
    "    plt.subplots_adjust(wspace=0.1, hspace=0.1) #interspace entre graphiques\n",
    "\n",
    "    cc = -1\n",
    "    for i in range(0,6):\n",
    "        cc = cc + 1\n",
    "        ax = fig.add_subplot(nf, nc, (cc+1))\n",
    "        hist = cv2.calcHist([npImagesA[i]], [0], None, [256], [0, 256])\n",
    "        ax = plt.plot(hist)\n",
    "        \n",
    "        cc = cc + 1\n",
    "        ax = fig.add_subplot(nf, nc, (cc+1))\n",
    "        hist = cv2.calcHist([pImagesNormal[i]], [0], None, [256], [0, 256])\n",
    "        ax = plt.plot(hist)\n",
    "        \n",
    "        cc = cc + 1\n",
    "        ax = fig.add_subplot(nf, nc, (cc+1))\n",
    "        clahe = cv2.createCLAHE(clipLimit=1.1)\n",
    "        gray_image_clahe = clahe.apply(npImagesA[i])\n",
    "        hist = cv2.calcHist([gray_image_clahe], [0], None, [256], [0, 256])\n",
    "        ax = plt.plot(hist)\n",
    "        \n",
    "        cc = cc + 1\n",
    "        ax = fig.add_subplot(nf, nc, (cc+1))\n",
    "        clahe.setClipLimit(1.5)\n",
    "        gray_image_clahe = clahe.apply(npImagesA[i])\n",
    "        hist = cv2.calcHist([gray_image_clahe], [0], None, [256], [0, 256])\n",
    "        ax = plt.plot(hist)\n",
    "        \n",
    "        cc = cc + 1\n",
    "        ax = fig.add_subplot(nf, nc, (cc+1))\n",
    "        clahe.setClipLimit(3)\n",
    "        gray_image_clahe = clahe.apply(npImagesA[i])\n",
    "        hist = cv2.calcHist([gray_image_clahe], [0], None, [256], [0, 256])\n",
    "        ax = plt.plot(hist)\n",
    "        \n",
    "        #ax.set_title('')\n",
    "        #ax.set_ylabel('')\n",
    "        #ax.set_xlabel('')\n",
    "        #ax.set_xscale('symlog', linthresh=10000000)\n",
    "    plt.show()\n",
    "    fig.savefig(dirCV + name+'.pdf', bbox_inches =\"tight\", pad_inches = 0.1, format='pdf')"
   ]
  },
  {
   "cell_type": "code",
   "execution_count": null,
   "id": "1160e9c5-fe5b-4218-bd86-2cb8b81f477f",
   "metadata": {
    "tags": []
   },
   "outputs": [],
   "source": [
    "GrayCLAHE(npImagesA[::int(len(npImagesA)/6)], npImagesB[::int(len(npImagesB)/6)], 'Clahe')"
   ]
  },
  {
   "cell_type": "code",
   "execution_count": null,
   "id": "4404b6fc-dd2d-43bf-98ce-f36a71a09f19",
   "metadata": {},
   "outputs": [],
   "source": [
    "GrayCLAHEhist(npImagesA[::int(len(npImagesA)/6)], npImagesB[::int(len(npImagesB)/6)], 'Clahe-hist')"
   ]
  },
  {
   "cell_type": "code",
   "execution_count": null,
   "id": "746e1f79-59d7-46c4-9778-be7b8144edc4",
   "metadata": {
    "tags": []
   },
   "outputs": [],
   "source": [
    "npImagesA = npImagesB\n",
    "\n",
    "npImagesB = [cv2.createCLAHE(clipLimit=3).apply(npImagesB[i]) for i in range(0,len(npImagesA))]\n",
    "GrayHIST(npImagesA[::int(len(npImagesA)/6)], npImagesB[::int(len(npImagesB)/6)], 'GuassTOclahe')"
   ]
  },
  {
   "cell_type": "markdown",
   "id": "f564d9cf-9cdf-4590-b30f-8aa458e1a113",
   "metadata": {},
   "source": [
    "## Contour Detection"
   ]
  },
  {
   "cell_type": "code",
   "execution_count": null,
   "id": "7dd81ad6-948a-4cfa-8538-bb4ccfcf40f1",
   "metadata": {},
   "outputs": [],
   "source": [
    "npImagesA = npImagesB"
   ]
  },
  {
   "cell_type": "code",
   "execution_count": null,
   "id": "71190ee9-cd49-45be-832e-869510da8219",
   "metadata": {
    "tags": []
   },
   "outputs": [],
   "source": [
    "def A2B_features(npImagesB,BoVW,name):\n",
    "    dirCV = '/media/chispitas/DATOS/Documento/Estudios/DataScientist/Projecto/P6-Classifiez automatiquement des biens de consommation/Code/CV/'\n",
    "    plt.style.use('seaborn-notebook') \n",
    "\n",
    "    nc = 3\n",
    "    nf = 2\n",
    "\n",
    "    fig = plt.figure(figsize=(15*nc/2, 15*nf/2))\n",
    "    plt.subplots_adjust(wspace=0.1, hspace=0.1) #interspace entre graphiques\n",
    "\n",
    "    cc = -1\n",
    "    for i in range(0,6):\n",
    "        cc = cc + 1\n",
    "\n",
    "        ax = fig.add_subplot(nf, nc, (cc+1))\n",
    "        image_keypoints = cv2.drawKeypoints(npImagesB[i], BoVW[i][0], None, color=(255, 0, 255), flags=0)\n",
    "        ax = plt.imshow(image_keypoints, cmap='gray')\n",
    "\n",
    "        #ax.set_title('')\n",
    "        #ax.set_ylabel('')\n",
    "        #ax.set_xlabel('')\n",
    "        #ax.set_xscale('symlog', linthresh=10000000)\n",
    "    plt.show()\n",
    "    fig.savefig(dirCV + name+'.pdf', bbox_inches =\"tight\", pad_inches = 0.1, format='pdf')"
   ]
  },
  {
   "cell_type": "markdown",
   "id": "36de2408-2782-4b01-842c-f6eb51390883",
   "metadata": {
    "jp-MarkdownHeadingCollapsed": true,
    "tags": []
   },
   "source": [
    "### SIFT"
   ]
  },
  {
   "cell_type": "markdown",
   "id": "1be2539c-2fc0-495b-9741-97cbb8b34834",
   "metadata": {},
   "source": [
    "import numpy as np\n",
    "import cv2\n",
    "import os\n",
    "from scipy import ndimage\n",
    "from scipy.spatial import distance\n",
    "from sklearn.cluster import KMeans\n",
    "\n",
    "#takes all images and convert them to grayscale. \n",
    "#return a dictionary that holds all images category by category. \n",
    "def load_images_from_folder(folder):\n",
    "    images = {}\n",
    "    for filename in os.listdir(folder):\n",
    "        imgs = []\n",
    "        path = folder + filename\n",
    "        img = cv2.imread(path,0)\n",
    "        imgs.append(img)\n",
    "        images[filename] = imgs\n",
    "    return images\n",
    "\n",
    "test = load_images_from_folder(dirIMAGES) # take test images "
   ]
  },
  {
   "cell_type": "markdown",
   "id": "7ac8474f-5e9c-47f0-9a10-66894f247fca",
   "metadata": {
    "tags": []
   },
   "source": [
    "#Creates descriptors using sift \n",
    "#Takes one parameter that is images dictionary\n",
    "#Return an array whose first index holds the decriptor_list without an order\n",
    "#And the second index holds the sift_vectors dictionary which holds the descriptors but this is seperated class by class\n",
    "def sift_features(images):\n",
    "    sift_vectors = {}\n",
    "    descriptor_list = []\n",
    "    sift = cv2.xfeatures2d.SIFT_create()\n",
    "    for key,value in images.items():\n",
    "        features = []\n",
    "        for img in value:\n",
    "            kp, des = sift.detectAndCompute(img,None)\n",
    "           \n",
    "            \n",
    "            descriptor_list.extend(des)\n",
    "            features.append(des)\n",
    "        sift_vectors[key] = features\n",
    "    return [descriptor_list, sift_vectors]\n",
    "\n",
    "sifts = sift_features(test) \n",
    "#Takes the descriptor list which is unordered one\n",
    "descriptor_list = sifts[0] \n",
    "#Takes the sift features that is seperated class by class for train data\n",
    "all_bovw_feature = sifts[1] \n",
    "#Takes the sift features that is seperated class by class for test data\n",
    "test_bovw_feature = sift_features(test)[1] "
   ]
  },
  {
   "cell_type": "markdown",
   "id": "ae1f1c72-b3af-489a-86e8-8fec8eef5eb5",
   "metadata": {},
   "source": [
    "from sklearn.cluster import MiniBatchKMeans\n",
    "#A k-means clustering algorithm who takes 2 parameter which is number \n",
    "#of cluster(k) and the other is descriptors list(unordered 1d array)\n",
    "#Returns an array that holds central points.\n",
    "def kmeans(k, descriptor_list):\n",
    "    kmeans = MiniBatchKMeans(3, random_state=10)\n",
    "    kmeans.fit(descriptor_list)\n",
    "    visual_words = kmeans.cluster_centers_ \n",
    "    return visual_words\n",
    "    \n",
    "#Takes the central points which is visual words    \n",
    "visual_words = kmeans(50, descriptor_list) "
   ]
  },
  {
   "cell_type": "markdown",
   "id": "0e1bff74-b885-4242-8c2f-ed90b331e6a2",
   "metadata": {},
   "source": []
  },
  {
   "cell_type": "markdown",
   "id": "1b5be14c-61de-4e60-9495-0d69dee61a9e",
   "metadata": {},
   "source": [
    "#Takes 2 parameters. The first one is a dictionary that holds the descriptors that are separated class by class \n",
    "#And the second parameter is an array that holds the central points (visual words) of the k means clustering\n",
    "#Returns a dictionary that holds the histograms for each images that are separated class by class. \n",
    "def image_class(all_bovw, centers):\n",
    "    dict_feature = {}\n",
    "    for key,value in all_bovw.items():\n",
    "        category = []\n",
    "        for img in value:\n",
    "            histogram = np.zeros(len(centers))\n",
    "            for each_feature in img:\n",
    "                ind = find_index(each_feature, centers)\n",
    "                histogram[ind] += 1\n",
    "            category.append(histogram)\n",
    "        dict_feature[key] = category\n",
    "    return dict_feature\n",
    "    \n",
    "#Creates histograms for train data    \n",
    "bovw_train = image_class(all_bovw_feature, visual_words) \n",
    "#Creates histograms for test data\n",
    "bovw_test = image_class(test_bovw_feature, visual_words) "
   ]
  },
  {
   "cell_type": "markdown",
   "id": "9f73ea2d-f815-4597-9ac5-e348c6667d92",
   "metadata": {
    "jp-MarkdownHeadingCollapsed": true,
    "tags": []
   },
   "source": [
    "### SURF"
   ]
  },
  {
   "cell_type": "markdown",
   "id": "66bd5c30-eab6-493e-95b2-1167714ea8c4",
   "metadata": {},
   "source": []
  },
  {
   "cell_type": "markdown",
   "id": "66928b8c-d56f-48ef-af6e-fac781fe16d2",
   "metadata": {},
   "source": [
    "plt.imshow(test['ff24511994fc459d04145231c8876d6c.jpg'][0], cmap='gray')"
   ]
  },
  {
   "cell_type": "markdown",
   "id": "8acd3915-89ae-4564-beea-c5620d47fc4f",
   "metadata": {},
   "source": [
    "import numpy as np\n",
    "import cv2\n",
    "import os\n",
    "from scipy import ndimage\n",
    "from scipy.spatial import distance\n",
    "from sklearn.cluster import KMeans\n",
    "\n",
    "#takes all images and convert them to grayscale. \n",
    "#return a dictionary that holds all images category by category. \n",
    "def load_images_from_folder(folder):\n",
    "    images = {}\n",
    "    for filename in os.listdir(folder):\n",
    "        category = []\n",
    "        path = folder + \"/\" + filename\n",
    "        for cat in os.listdir(path):\n",
    "            img = cv2.imread(path + \"/\" + cat,0)\n",
    "            #img = cv2.cvtColor(img, cv2.COLOR_BGR2GRAY)\n",
    "            if img is not None:\n",
    "                category.append(img)\n",
    "        images[filename] = category\n",
    "    return images\n",
    "\n",
    "pat = '/media/chispitas/DATOS/Documento/Estudios/DataScientist/Projecto/P6-Classifiez automatiquement des biens de consommation/Code/Data/Flipkart'\n",
    "images = load_images_from_folder(pat)  # take all images category by category \n",
    "test = load_images_from_folder(pat) # take test images "
   ]
  },
  {
   "cell_type": "markdown",
   "id": "aede083f-00ed-4eab-9b62-45051ef23de5",
   "metadata": {
    "tags": []
   },
   "source": [
    "### ORB"
   ]
  },
  {
   "cell_type": "code",
   "execution_count": null,
   "id": "bdc184ec-0d01-478b-9eff-9139e82f7f3f",
   "metadata": {},
   "outputs": [],
   "source": [
    "npImagesA = npImagesB"
   ]
  },
  {
   "cell_type": "code",
   "execution_count": null,
   "id": "032388ae-66bb-4a28-ae67-ab13da651217",
   "metadata": {},
   "outputs": [],
   "source": [
    "len(npImagesA)"
   ]
  },
  {
   "cell_type": "code",
   "execution_count": null,
   "id": "7b54b33a-23b9-4ec0-9ad8-b4a0587e7571",
   "metadata": {},
   "outputs": [],
   "source": [
    "#erreur\n",
    "npImagesA = np.delete(npImagesA, 577, 0)\n",
    "npImagesB = np.delete(npImagesB, 577, 0)\n",
    "rowDFImagesCAT = pd.DataFrame(dfImagesCAT.iloc[577]).T.index[0]\n",
    "dfImagesCAT = dfImagesCAT.drop(rowDFImagesCAT, axis=0)\n",
    "print(len(npImagesA))\n",
    "print(len(npImagesB))\n",
    "print(len(dfImagesCAT))"
   ]
  },
  {
   "cell_type": "code",
   "execution_count": null,
   "id": "3186c220-3e84-471b-84cb-78d944352dc7",
   "metadata": {
    "jp-MarkdownHeadingCollapsed": true,
    "tags": []
   },
   "outputs": [],
   "source": [
    "##### lKey = []\n",
    "lFeaturesImage = []\n",
    "orb = cv2.ORB_create()\n",
    "for i in range(0,len(npImagesA)):\n",
    "    key, des = orb.detectAndCompute(npImagesA[i], None)\n",
    "    #lKey.append(key)\n",
    "    lFeaturesImage.append(des)\n",
    "    #print(i, des.shape)\n",
    "#dfDescriptor = pd.DataFrame(lDescriptor, columns=['Features'])\n",
    "npAllFeatures = np.float32(np.vstack(lFeaturesImage))\n",
    "dfAllFeatures = pd.DataFrame(npAllFeatures)\n",
    "joblib.dump(npImagesB, dirIMAGES + 'npImagesB.pkl') #search_Grid = joblib.load(model_names_Grid[c]+'_CO2_Multi.pkl')\n",
    "joblib.dump(dfAllFeatures, dirIMAGES + 'dfAllFeatures.pkl') #search_Grid = joblib.load(model_names_Grid[c]+'_CO2_Multi.pkl')"
   ]
  },
  {
   "cell_type": "code",
   "execution_count": null,
   "id": "d129bb18-3a2f-44e3-964d-73bfea88f92a",
   "metadata": {},
   "outputs": [],
   "source": [
    "des.shape"
   ]
  },
  {
   "cell_type": "code",
   "execution_count": null,
   "id": "61377058-a36b-41b2-a0d9-f0796cfa8739",
   "metadata": {},
   "outputs": [],
   "source": [
    "dfAllFeatures = joblib.load(dirIMAGES + 'dfAllFeatures.pkl')"
   ]
  },
  {
   "cell_type": "code",
   "execution_count": null,
   "id": "8b93fff1-5f12-4d6a-88c7-e2e2f7e09ad1",
   "metadata": {},
   "outputs": [],
   "source": [
    "dfAllFeatures"
   ]
  },
  {
   "cell_type": "markdown",
   "id": "d13fef0d-07ca-4f91-aaab-8df9390e3651",
   "metadata": {
    "tags": []
   },
   "source": [
    "## Match"
   ]
  },
  {
   "cell_type": "markdown",
   "id": "070befb6-a0dc-4fa0-bc35-a1d840d99e39",
   "metadata": {
    "tags": []
   },
   "source": [
    "### Brute-Force"
   ]
  },
  {
   "cell_type": "markdown",
   "id": "914bc360-c055-4387-909b-20de0f962f18",
   "metadata": {},
   "source": [
    "def get_corrected_img(BoVW,ix,iy,img1,img2):\n",
    "    MIN_MATCHES = 50\n",
    "\n",
    "    orb = cv2.ORB_create(nfeatures=1500)\n",
    "    kp1 = BoVW[ix][0]\n",
    "    kp2 = BoVW[iy][0]\n",
    "    des1 = BoVW[ix][1]\n",
    "    des2 = BoVW[iy][1]\n",
    "\n",
    "    # matcher takes normType, which is set to cv2.NORM_L2 for SIFT and SURF, cv2.NORM_HAMMING for ORB, FAST and BRIEF\n",
    "    bf = cv2.BFMatcher(cv2.NORM_HAMMING, crossCheck=True)\n",
    "    matches = bf.match(des1, des2)\n",
    "    matches = sorted(matches, key=lambda x: x.distance)# draw first 50 matches\n",
    "    match_img = cv2.drawMatches(img1, kp1, img2, kp2, matches[:50], None)\n",
    "    cv2.imshow('Matches', match_img)\n",
    "    cv2.waitKey()"
   ]
  },
  {
   "cell_type": "markdown",
   "id": "a51d8c18-d56b-4734-b94f-7476f5a72908",
   "metadata": {
    "jp-MarkdownHeadingCollapsed": true,
    "tags": []
   },
   "source": [
    "### FLANN"
   ]
  },
  {
   "cell_type": "markdown",
   "id": "4c75e45b-f8d7-40e8-9bf8-f65419a79ce0",
   "metadata": {},
   "source": [
    "FLANN_INDEX_KDTREE = 1\n",
    "index_params = dict(algorithm=FLANN_INDEX_KDTREE, trees=5)\n",
    "search_params = {}\n",
    "flann = cv2.FlannBasedMatcher(index_params, search_params)"
   ]
  },
  {
   "cell_type": "markdown",
   "id": "6070419c-3047-4ef9-bf86-0028e4c3aa8b",
   "metadata": {},
   "source": [
    "def get_corrected_img(BoVW,ix,iy,img1,img2):\n",
    "    MIN_MATCHES = 50\n",
    "\n",
    "    orb = cv2.ORB_create(nfeatures=1500)\n",
    "    kp1 = BoVW[ix][0]\n",
    "    kp2 = BoVW[iy][0]\n",
    "    des1 = BoVW[ix][1]\n",
    "    des2 = BoVW[iy][1]\n",
    "\n",
    "    index_params = dict(algorithm=6,\n",
    "                        table_number=6,\n",
    "                        key_size=12,\n",
    "                        multi_probe_level=2)\n",
    "    search_params = {}\n",
    "    flann = cv2.FlannBasedMatcher(index_params, search_params)\n",
    "    matches = flann.knnMatch(des1, des2, k=2)\n",
    "\n",
    "    # As per Lowe's ratio test to filter good matches\n",
    "    good_matches = []\n",
    "    for m, n in matches:\n",
    "        if m.distance < 0.75 * n.distance:\n",
    "            good_matches.append(m)\n",
    "\n",
    "    if len(good_matches) > MIN_MATCHES:\n",
    "        src_points = np.float32([kp1[m.queryIdx].pt for m in good_matches]).reshape(-1, 1, 2)\n",
    "        dst_points = np.float32([kp2[m.trainIdx].pt for m in good_matches]).reshape(-1, 1, 2)\n",
    "        m, mask = cv2.findHomography(src_points, dst_points, cv2.RANSAC, 5.0)\n",
    "        corrected_img = cv2.warpPerspective(img1, m, (img2.shape[1], img2.shape[0]))\n",
    "\n",
    "        return corrected_img\n",
    "    return img2"
   ]
  },
  {
   "cell_type": "markdown",
   "id": "6100221a-b99a-4145-abc4-33965cfa3031",
   "metadata": {},
   "source": [
    "plt.imshow(get_corrected_img(BoVW,0,0,npImagesA[0],npImagesA[1]), cmap='gray')"
   ]
  },
  {
   "cell_type": "markdown",
   "id": "36049a59-4320-4f5e-9eb7-9b1593ca389a",
   "metadata": {},
   "source": [
    "def get_corrected_img(img1, img2):\n",
    "    MIN_MATCHES = 50\n",
    "\n",
    "    orb = cv2.ORB_create(nfeatures=500)\n",
    "    kp1, des1 = orb.detectAndCompute(img1, None)\n",
    "    kp2, des2 = orb.detectAndCompute(img2, None)\n",
    "\n",
    "    index_params = dict(algorithm=6,\n",
    "                        table_number=6,\n",
    "                        key_size=12,\n",
    "                        multi_probe_level=2)\n",
    "    search_params = {}\n",
    "    flann = cv2.FlannBasedMatcher(index_params, search_params)\n",
    "    matches = flann.knnMatch(des1, des2, k=2)\n",
    "\n",
    "    # As per Lowe's ratio test to filter good matches\n",
    "    good_matches = []\n",
    "    for m, n in matches:\n",
    "        if m.distance < 0.75 * n.distance:\n",
    "            good_matches.append(m)\n",
    "\n",
    "    if len(good_matches) > MIN_MATCHES:\n",
    "        src_points = np.float32([kp1[m.queryIdx].pt for m in good_matches]).reshape(-1, 1, 2)\n",
    "        dst_points = np.float32([kp2[m.trainIdx].pt for m in good_matches]).reshape(-1, 1, 2)\n",
    "        m, mask = cv2.findHomography(src_points, dst_points, cv2.RANSAC, 5.0)\n",
    "        corrected_img = cv2.warpPerspective(img1, m, (img2.shape[1], img2.shape[0]))\n",
    "\n",
    "        return corrected_img\n",
    "    return img2"
   ]
  },
  {
   "cell_type": "markdown",
   "id": "31d07473-192a-4508-885d-b6e1729ac5a4",
   "metadata": {},
   "source": [
    "## BoVW"
   ]
  },
  {
   "cell_type": "markdown",
   "id": "a22a3208-d231-4b6d-a84d-f39bf7cf794b",
   "metadata": {
    "tags": []
   },
   "source": [
    "### Inertia"
   ]
  },
  {
   "cell_type": "code",
   "execution_count": null,
   "id": "1960f72c-bd0d-45f1-852c-e093ee161251",
   "metadata": {},
   "outputs": [],
   "source": [
    "np.int64(np.geomspace(5, 300, num=10).round(0))"
   ]
  },
  {
   "cell_type": "code",
   "execution_count": null,
   "id": "cdb4c14d-adaa-426f-b337-9ca5fe678e53",
   "metadata": {
    "tags": []
   },
   "outputs": [],
   "source": [
    "from yellowbrick.cluster import KElbowVisualizer #https://www.scikit-yb.org/en/latest/api/cluster/silhouette.html\n",
    "from sklearn.cluster import MiniBatchKMeans\n",
    "\n",
    "nc = 1\n",
    "nf = 1\n",
    "\n",
    "fig, axes = plt.subplots(nrows=nf, ncols=nc, figsize=(7*nc, 7*nf), sharex=True, sharey=True, gridspec_kw={'wspace': 0.3, 'hspace': 0.3})\n",
    "#fig.subplots_adjust(wspace=3, hspace=3) #interspace entre graphiques\n",
    "\n",
    "#k1=np.int64(np.geomspace(2, 300, num=2).round(0))\n",
    "k1=np.int64(np.geomspace(2, 100, num=50).round(0))\n",
    "#k1=np.int64(np.linspace(2, 60, 50).round(0)).tolist()\n",
    "#k1=[1,2,3,4,5,6,7,8,9]\n",
    "visualgrid = [KElbowVisualizer(MiniBatchKMeans(), random_state=6, k=k1)]\n",
    "\n",
    "for viz in visualgrid:\n",
    "    viz.fit(dfAllFeatures)\n",
    "\n",
    "for ix in [0]:\n",
    "    axes.plot([12,12], [0,6.5*1e10], color='r')\n",
    "    axes.set_ylabel('Inertia')\n",
    "    axes.set_xlabel('Clusters')\n",
    "    \n",
    "#axes.set_title('random_state='+str(6))\n",
    "#plt.show()\n",
    "\n",
    "fig.savefig(dirCV + '1-MiniBatchKMeans_Inertia-1.pdf', bbox_inches =\"tight\", pad_inches = 0.1, format='pdf')"
   ]
  },
  {
   "cell_type": "markdown",
   "id": "167d2405-21ed-49e9-81ee-3ba8c039f8ba",
   "metadata": {
    "tags": []
   },
   "source": [
    "### Silhouette"
   ]
  },
  {
   "cell_type": "code",
   "execution_count": null,
   "id": "e7440a55-b946-4cd9-b5db-aaba34ffb272",
   "metadata": {},
   "outputs": [],
   "source": [
    "np.int64(np.linspace(3, 8, 6).round(0)).tolist()[0]"
   ]
  },
  {
   "cell_type": "markdown",
   "id": "07d4d61f-90fd-490c-ab53-9e99246aeb97",
   "metadata": {
    "tags": []
   },
   "source": [
    "from yellowbrick.cluster import silhouette_visualizer #pip install yellowbrick\n",
    "\n",
    "nc = 2\n",
    "nf = 3\n",
    "rs = 10\n",
    "k1=[13,15,17,19,21,23]\n",
    "k1=np.int64(np.linspace(20, 40, 6).round(0)).tolist()\n",
    "\n",
    "fig, axes = plt.subplots(nrows=nf, ncols=nc, figsize=(7*nc, 7*nf), sharex=True, sharey=True, gridspec_kw={'wspace': 0.2, 'hspace': 0.2})\n",
    "#fig.subplots_adjust(wspace=3, hspace=3) #interspace entre graphiques\n",
    "\n",
    "silhouette_visualizer(MiniBatchKMeans(k1[0], random_state=rs), dfAllFeatures, colors='yellowbrick', ax=axes[0][0])\n",
    "silhouette_visualizer(MiniBatchKMeans(k1[1], random_state=rs), dfAllFeatures, colors='yellowbrick', ax=axes[0][1])\n",
    "\n",
    "silhouette_visualizer(MiniBatchKMeans(k1[2], random_state=rs), dfAllFeatures, colors='yellowbrick', ax=axes[1][0])\n",
    "silhouette_visualizer(MiniBatchKMeans(k1[3], random_state=rs), dfAllFeatures, colors='yellowbrick', ax=axes[1][1])\n",
    "\n",
    "silhouette_visualizer(MiniBatchKMeans(k1[4], random_state=rs), dfAllFeatures, colors='yellowbrick', ax=axes[2][0])\n",
    "silhouette_visualizer(MiniBatchKMeans(k1[5], random_state=rs), dfAllFeatures, colors='yellowbrick', ax=axes[2][1])\n",
    "\n",
    "c = -1\n",
    "for iy in [0,1,2]:\n",
    "        for ix in [0,1]:\n",
    "            c=c+1\n",
    "            axes[iy][ix].set_title('MiniBatchKMeans, Clusters:'+str(k1[c]))\n",
    "            \n",
    "fig.savefig(dirCV + '2-MiniBatchKMeans_Silhouette-0.pdf', bbox_inches =\"tight\", pad_inches = 0.1, format='pdf')"
   ]
  },
  {
   "cell_type": "markdown",
   "id": "d0313257-21ff-45b2-9b4c-f88e5b9dba41",
   "metadata": {
    "tags": []
   },
   "source": [
    "### BoVW"
   ]
  },
  {
   "cell_type": "code",
   "execution_count": null,
   "id": "491d5b5a-8801-4149-9a1c-982ca34601e4",
   "metadata": {},
   "outputs": [],
   "source": [
    "len(dfImagesCAT['product_category_tree_0'].unique())*10"
   ]
  },
  {
   "cell_type": "code",
   "execution_count": null,
   "id": "c000b23c-ced6-49c6-9547-c54267f2b059",
   "metadata": {},
   "outputs": [],
   "source": [
    "k=12\n",
    "#k=len(dfImagesCAT['product_category_tree_0'].unique())*10\n",
    "dfImagesCAT['product_category_tree_0'].unique()\n",
    "from sklearn.cluster import MiniBatchKMeans\n",
    "model = MiniBatchKMeans(k, random_state=10)\n",
    "model.fit(dfAllFeatures)\n",
    "centers = model.cluster_centers_ \n",
    "#dfDescriptor['Cluster'] = model.labels_"
   ]
  },
  {
   "cell_type": "code",
   "execution_count": null,
   "id": "91aaa108-7c7c-47b4-8317-05c85840e47d",
   "metadata": {},
   "outputs": [],
   "source": [
    "dfAllFeatures"
   ]
  },
  {
   "cell_type": "code",
   "execution_count": null,
   "id": "b8ff9022-2da5-4323-a697-ff8ac59872c2",
   "metadata": {},
   "outputs": [],
   "source": [
    "plt.imshow(npImagesA[0], cmap='gray')"
   ]
  },
  {
   "cell_type": "code",
   "execution_count": null,
   "id": "3ce0af79-9c58-4ecf-8cba-09360ebe1d32",
   "metadata": {},
   "outputs": [],
   "source": [
    "plt.imshow(lFeaturesImage[0], cmap='gray')"
   ]
  },
  {
   "cell_type": "code",
   "execution_count": null,
   "id": "7ebbbfa7-1d03-4641-a5bf-b92526b6d3d4",
   "metadata": {
    "tags": []
   },
   "outputs": [],
   "source": [
    "dfBoVW = pd.DataFrame([], columns=np.linspace(0,k-1,k), index=np.linspace(0,len(npImagesA)-1,len(npImagesA)))\n",
    "\n",
    "for i in range(0,len(npImagesA)):\n",
    "    dfFeat_Clusted = pd.DataFrame(model.predict(lFeaturesImage[i].astype('float32')))\n",
    "    for c in dfBoVW.columns:\n",
    "        dfBoVW.loc[i,c] = dfFeat_Clusted[dfFeat_Clusted.iloc[:,0]==c].count()[0]\n",
    "\n",
    "dfBoVW"
   ]
  },
  {
   "cell_type": "markdown",
   "id": "3d6d8e52-36d1-4093-b099-8d3b4c06e2a6",
   "metadata": {},
   "source": [
    "### T-SNE"
   ]
  },
  {
   "cell_type": "code",
   "execution_count": null,
   "id": "49c9eb85-bdd4-42e6-9344-93a3b3dcc953",
   "metadata": {},
   "outputs": [],
   "source": [
    "ls_gram=['dfBoVW']\n",
    "dfBoVW.shape"
   ]
  },
  {
   "cell_type": "code",
   "execution_count": null,
   "id": "f8d295ac-22a4-45f0-9422-be601730129f",
   "metadata": {},
   "outputs": [],
   "source": [
    "for lg in ls_gram:\n",
    "    #for ig in [1,2,3,4]:\n",
    "    ig=''\n",
    "    df_TSNE = eval(lg+str(ig)).copy()\n",
    "    name = lg+str(ig)\n",
    "\n",
    "    #df_TSNE = df_TSNE.drop('sum', axis=0)\n",
    "\n",
    "    #df_TSNE.columns = df_TSNE.columns.str.lower().str.replace(' ', '_').to_list()\n",
    "\n",
    "    #df_TSNE['product_category_tree_0'] = dfDATA_Clean['product_category_tree_0']\n",
    "    \n",
    "    prx=np.sqrt(len(df_TSNE))\n",
    "\n",
    "    tsne = TSNE(n_components=2, random_state=42, perplexity=prx, n_iter=300)\n",
    "    npdf_TSNE = tsne.fit_transform(df_TSNE.convert_dtypes())\n",
    "    joblib.dump(npdf_TSNE, dirCV + 'TSNE-'+ name +'.pkl')"
   ]
  },
  {
   "cell_type": "code",
   "execution_count": null,
   "id": "af4c94c7-1f39-4dc1-aebb-d15881e2a92c",
   "metadata": {},
   "outputs": [],
   "source": [
    "plt.rcParams[\"figure.figsize\"] = [10*1.5,8*1.5]\n",
    "\n",
    "for lg in ls_gram:\n",
    "    #for ig in [1,2,3,4]:\n",
    "    ig=''\n",
    "    fig = plt.figure()\n",
    "    name = lg+str(ig)\n",
    "    npdf_TSNE = joblib.load(dirCV + 'TSNE-'+ name +'.pkl') #search_Grid = joblib.load(model_names_Grid[c]+'_CO2_Multi.pkl')\n",
    "    df_TSNE = pd.DataFrame(npdf_TSNE, columns=['X','Y'], index=df_TSNE.index)\n",
    "    df_TSNE['product_category_tree_0'] = pd.DataFrame(dfImagesCAT['product_category_tree_0']).reset_index(drop=True)\n",
    "\n",
    "    #plt.figure(figsize=(13,10))\n",
    "    ax = sns.scatterplot(data=df_TSNE, x=\"X\", y=\"Y\", hue='product_category_tree_0', markers='.', sizes=0.1) #, hue='product_category_tree_0'\n",
    "    ax.set(title=name, xlim=(-20, 20), ylim=(-20, 20)) #, cmap=\"jet\")\n",
    "\n",
    "    fig.savefig(dirCV + '4-TSNE_OpenCV_-' + name +'.pdf', bbox_inches =\"tight\", pad_inches = 0.1, format='pdf')"
   ]
  },
  {
   "cell_type": "markdown",
   "id": "4e2c85e1-0498-458f-9e96-06902beebcfe",
   "metadata": {},
   "source": [
    "## Naive Bayes"
   ]
  },
  {
   "cell_type": "markdown",
   "id": "ba77fca8-91f1-44f5-91c3-186054749bbd",
   "metadata": {
    "tags": []
   },
   "source": [
    "### Training and Test Set split"
   ]
  },
  {
   "cell_type": "code",
   "execution_count": null,
   "id": "355be5fe-ba1a-47d4-a1f3-d031e84eb46c",
   "metadata": {
    "tags": []
   },
   "outputs": [],
   "source": [
    "from sklearn.model_selection import train_test_split\n",
    "Xtrain_S_E, Xtest_S_E, ytrain, ytest = train_test_split(dfBoVW, dfImagesCAT['product_category_tree_0'], test_size=0.2, random_state=0)\n",
    "\n",
    "Xtrain_S_E"
   ]
  },
  {
   "cell_type": "markdown",
   "id": "bd21410f-60ae-4b59-8d05-372ce39c260b",
   "metadata": {
    "tags": []
   },
   "source": [
    "### LabelEncoder"
   ]
  },
  {
   "cell_type": "code",
   "execution_count": null,
   "id": "a7fa8676-3e9b-47ce-9791-f72f7a56cf47",
   "metadata": {
    "tags": []
   },
   "outputs": [],
   "source": [
    "from sklearn.preprocessing import LabelEncoder\n",
    "#for iVAR in ['PrimaryPropertyType', 'Zip Codes'] :\n",
    "\n",
    "enc = LabelEncoder().fit(ytrain)\n",
    "ytrain_encoded = enc.transform(ytrain)\n",
    "ytest_encoded = enc.transform(ytest)\n",
    "    \n",
    "\n",
    "ytrain_encoded"
   ]
  },
  {
   "cell_type": "markdown",
   "id": "0b40b8e5-d1b5-4ba5-959a-137684e86595",
   "metadata": {},
   "source": [
    "### Scaling"
   ]
  },
  {
   "cell_type": "markdown",
   "id": "7c486e95-504d-41e4-9488-80d6c20022bc",
   "metadata": {
    "tags": []
   },
   "source": [
    "from sklearn.preprocessing import MinMaxScaler\n",
    "for iVAR in Xtrain.columns :\n",
    "    scal = MinMaxScaler().fit(Xtrain)\n",
    "    Xtrain_S_E = scal.transform(Xtrain)\n",
    "    Xtest_S_E = scal.transform(Xtest)\n",
    "    \n",
    "    Xtrain_S_E = pd.DataFrame(Xtrain_S_E, columns=Xtrain.columns, index=Xtrain.index)\n",
    "    Xtest_S_E = pd.DataFrame(Xtest_S_E, columns=Xtest.columns, index=Xtest.index)\n",
    "    \n",
    "    joblib.dump(Xtrain_S_E, dirCLEAN + 'Xtrain_S_E-.pkl') #search_Grid = joblib.load(model_names_Grid[c]+'_CO2_Multi.pkl')\n",
    "    joblib.dump(Xtest_S_E, dirCLEAN + 'Xtest_S_E-.pkl') #search_Grid = joblib.load(model_names_Grid[c]+'_CO2_Multi.pkl')\n",
    "\n",
    "Xtrain_S_E"
   ]
  },
  {
   "cell_type": "markdown",
   "id": "fd08c387-02ef-4a01-9b46-a8a18554c1b2",
   "metadata": {},
   "source": [
    "Xtrain_S_E = joblib.load(dirCLEAN + 'Xtrain_S_E-.pkl')\n",
    "Xtest_S_E = joblib.load(dirCLEAN + 'Xtest_S_E-.pkl')"
   ]
  },
  {
   "cell_type": "code",
   "execution_count": null,
   "id": "40239c7b-23e0-4105-8d86-9d96d7668bed",
   "metadata": {},
   "outputs": [],
   "source": [
    "from sklearn.naive_bayes import MultinomialNB\n",
    "clf = MultinomialNB()\n",
    "clf.fit(Xtrain_S_E, ytrain_encoded)\n",
    "ypred = clf.predict(Xtrain_S_E)"
   ]
  },
  {
   "cell_type": "code",
   "execution_count": null,
   "id": "aec58d32-591b-443c-814e-5237574b41d8",
   "metadata": {},
   "outputs": [],
   "source": [
    "from sklearn.metrics import confusion_matrix\n",
    "npConfusionM = confusion_matrix(ytrain_encoded, ypred)\n",
    "pd.DataFrame(npConfusionM)"
   ]
  },
  {
   "cell_type": "code",
   "execution_count": null,
   "id": "9fd69ab4-537c-4bf7-9cf9-b37dfa6a0a88",
   "metadata": {},
   "outputs": [],
   "source": [
    "dfConfusionM = pd.DataFrame(npConfusionM)\n",
    "dfConfusionM.columns = list(enc.inverse_transform(dfConfusionM.columns))\n",
    "dfConfusionM.index = list(enc.inverse_transform(dfConfusionM.index))"
   ]
  },
  {
   "cell_type": "code",
   "execution_count": null,
   "id": "21429d60-aad5-47ee-8cb7-3f5b388a5c9f",
   "metadata": {},
   "outputs": [],
   "source": [
    "plt.rcParams[\"figure.figsize\"] = [len(dfConfusionM)/2.2,len(dfConfusionM)/2.2]\n",
    "heatmap = sns.heatmap(dfConfusionM,  annot=True, fmt='.1f', cmap='BrBG', cbar=False) #, mask=mask)\n",
    "heatmap.set(xlabel='Predicted', ylabel='Label')\n",
    "plt.savefig(dirCV + '3-OPENCV-dfConfusionM.pdf', bbox_inches =\"tight\", pad_inches = 0.1, format='pdf')\n",
    "plt.style.use('seaborn-poster') "
   ]
  },
  {
   "cell_type": "markdown",
   "id": "c43055af-5f8c-46b4-ab6e-0b6bcc199919",
   "metadata": {},
   "source": [
    "#### SCORE verifier metric"
   ]
  },
  {
   "cell_type": "code",
   "execution_count": null,
   "id": "4ee88462-e24f-4a2e-a11c-10fc250f0222",
   "metadata": {},
   "outputs": [],
   "source": [
    "clf.score(Xtest_S_E, ytest_encoded) #accuracy (precision)"
   ]
  },
  {
   "cell_type": "markdown",
   "id": "17811092-0b03-48f8-b5be-4d9f0de90646",
   "metadata": {
    "tags": []
   },
   "source": [
    "# skimage"
   ]
  },
  {
   "cell_type": "markdown",
   "id": "1a0ab8a7-431e-4485-89c4-94e20f4bf7be",
   "metadata": {
    "tags": []
   },
   "source": [
    "from skimage.io import imread, imshow\n",
    "from skimage.color import rgb2hsv \n",
    "from skimage import exposure\n",
    "from sklearn import preprocessing\n",
    "\n",
    "import matplotlib.pyplot as plt\n",
    "%matplotlib inline\n",
    "\n",
    "image = imread(ImageFile) \n",
    "img_new = rgb2hsv(image)\n",
    "\n",
    "img_new = image[100:(img_new.shape[0]-100),100:(img_new.shape[1]-100)]\n",
    "img_new = exposure.adjust_gamma(img_new, gamma=0.5,gain=1)\n",
    "\n",
    "plt.subplot(121), imshow(image_gray)\n",
    "plt.title('RGB Format')\n",
    "plt.subplot(122), imshow(img_new)\n",
    "\n"
   ]
  },
  {
   "cell_type": "code",
   "execution_count": null,
   "id": "2bf35de9-3fa9-4ae8-af31-183318f121db",
   "metadata": {},
   "outputs": [],
   "source": []
  }
 ],
 "metadata": {
  "kernelspec": {
   "display_name": "Python 3 (ipykernel)",
   "language": "python",
   "name": "python3"
  },
  "language_info": {
   "codemirror_mode": {
    "name": "ipython",
    "version": 3
   },
   "file_extension": ".py",
   "mimetype": "text/x-python",
   "name": "python",
   "nbconvert_exporter": "python",
   "pygments_lexer": "ipython3",
   "version": "3.8.12"
  },
  "toc-autonumbering": true,
  "widgets": {
   "application/vnd.jupyter.widget-state+json": {
    "state": {},
    "version_major": 2,
    "version_minor": 0
   }
  }
 },
 "nbformat": 4,
 "nbformat_minor": 5
}
